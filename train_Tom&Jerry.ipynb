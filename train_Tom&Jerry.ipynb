{
  "nbformat": 4,
  "nbformat_minor": 0,
  "metadata": {
    "colab": {
      "name": "train_Tom&Jerry.ipynb",
      "provenance": [],
      "collapsed_sections": [],
      "include_colab_link": true
    },
    "kernelspec": {
      "name": "python3",
      "display_name": "Python 3"
    },
    "language_info": {
      "name": "python"
    },
    "accelerator": "GPU"
  },
  "cells": [
    {
      "cell_type": "markdown",
      "metadata": {
        "id": "view-in-github",
        "colab_type": "text"
      },
      "source": [
        "<a href=\"https://colab.research.google.com/github/rybak97/SR_cartoon/blob/main/train_Tom%26Jerry.ipynb\" target=\"_parent\"><img src=\"https://colab.research.google.com/assets/colab-badge.svg\" alt=\"Open In Colab\"/></a>"
      ]
    },
    {
      "cell_type": "code",
      "source": [
        "import tensorflow as tf\n",
        "\n",
        "from tensorflow import keras\n",
        "from tensorflow.keras import layers\n",
        "from keras.layers import Conv2D, Input, Conv2DTranspose, Activation, MaxPooling2D\n",
        "\n",
        "from scipy import signal\n",
        "from scipy import ndimage\n",
        "\n",
        "from matplotlib import pyplot as plt\n",
        "\n",
        "import math\n",
        "\n",
        "import cv2 as cv\n",
        "import numpy as np\n",
        "\n",
        "import os\n",
        "from PIL import Image\n",
        "\n",
        "from tensorflow.keras.optimizers import Adam\n",
        "from tensorflow.keras.optimizers.schedules import PiecewiseConstantDecay\n",
        "from tensorflow.keras import layers\n",
        "from tensorflow.keras.utils import plot_model\n",
        "\n",
        "import gc\n",
        "gc.collect"
      ],
      "metadata": {
        "id": "EWp7JhNWlRXz",
        "colab": {
          "base_uri": "https://localhost:8080/"
        },
        "outputId": "6841939e-744c-4fd3-a37e-15611dbea03e"
      },
      "execution_count": 1,
      "outputs": [
        {
          "output_type": "execute_result",
          "data": {
            "text/plain": [
              "<function gc.collect>"
            ]
          },
          "metadata": {},
          "execution_count": 1
        }
      ]
    },
    {
      "cell_type": "code",
      "source": [
        "def residual_block_gen(ch=64,k_s=3,st=1):\n",
        "    model=tf.keras.Sequential([\n",
        "    tf.keras.layers.Conv2D(ch,k_s,strides=(st,st),padding='same'),\n",
        "    tf.keras.layers.BatchNormalization(),\n",
        "    tf.keras.layers.LeakyReLU(),\n",
        "    tf.keras.layers.Conv2D(ch,k_s,strides=(st,st),padding='same'),\n",
        "    tf.keras.layers.BatchNormalization(),\n",
        "    tf.keras.layers.LeakyReLU(),])\n",
        "    return model\n",
        "\n",
        "def Upsample_block(x,ch=256, k_s=3, st=1):\n",
        "    x = tf.keras.layers.Conv2D(ch,k_s, strides=(st,st), padding='same')(x)\n",
        "    x = tf.nn.depth_to_space(x, 2) # Subpixel pixelshuffler\n",
        "    x = tf.keras.layers.LeakyReLU()(x)\n",
        "    return x\n",
        "lr=tf.keras.layers.Input(shape=(None, None, 3))\n",
        "input_conv=tf.keras.layers.Conv2D(64,9,padding='same')(lr)\n",
        "input_conv=tf.keras.layers.LeakyReLU()(input_conv)\n",
        "\n"
      ],
      "metadata": {
        "id": "AJRUNFSD1BoD"
      },
      "execution_count": 2,
      "outputs": []
    },
    {
      "cell_type": "code",
      "source": [
        "def model():\n",
        "    SRRes=input_conv\n",
        "    for x in range(5):\n",
        "        res_output=residual_block_gen()(SRRes)\n",
        "        SRRes=Upsample_block(SRRes)\n",
        "        SRRes=MaxPooling2D()(SRRes)\n",
        "        SRRes=tf.keras.layers.Add()([SRRes,res_output])\n",
        "        SRRes=tf.keras.layers.Conv2D(64,9,padding='same')(SRRes)\n",
        "    SRRes=tf.keras.layers.BatchNormalization()(SRRes)\n",
        "    SRRes=tf.keras.layers.Add()([SRRes,input_conv])\n",
        "    SRRes=Upsample_block(SRRes)\n",
        "    SRRes=MaxPooling2D()(SRRes)\n",
        "\n",
        "\n",
        "\n",
        "    output_sr=tf.keras.layers.Conv2D(3,9,activation='sigmoid',padding='same')(SRRes)\n",
        "    return tf.keras.models.Model(lr,output_sr)"
      ],
      "metadata": {
        "id": "YyiklfFF1Mz-"
      },
      "execution_count": null,
      "outputs": []
    },
    {
      "cell_type": "code",
      "source": [
        "from google.colab import drive\n",
        "drive.mount('/content/drive')"
      ],
      "metadata": {
        "colab": {
          "base_uri": "https://localhost:8080/"
        },
        "id": "naBR-hVeIcYU",
        "outputId": "08a51088-24f7-47f7-aa5e-c678036cb21d"
      },
      "execution_count": 5,
      "outputs": [
        {
          "output_type": "stream",
          "name": "stdout",
          "text": [
            "Mounted at /content/drive\n"
          ]
        }
      ]
    },
    {
      "cell_type": "code",
      "source": [
        "images = []\n",
        "i=0\n",
        "\n",
        "for file in os.listdir('/content/drive/MyDrive/Tom&Jerry/Tom_1000/'):\n",
        "    images.append(cv.imread('/content/drive/MyDrive/Tom&Jerry/Tom_1000/{}'.format(file)))\n"
      ],
      "metadata": {
        "id": "bkKzed7PAvDB"
      },
      "execution_count": null,
      "outputs": []
    },
    {
      "cell_type": "code",
      "source": [
        "import gc\n",
        "gc.collect"
      ],
      "metadata": {
        "colab": {
          "base_uri": "https://localhost:8080/"
        },
        "id": "d5sicNdOY_3l",
        "outputId": "60c68d54-970c-4580-9269-6b77ea200ecd"
      },
      "execution_count": null,
      "outputs": [
        {
          "output_type": "execute_result",
          "data": {
            "text/plain": [
              "<function gc.collect>"
            ]
          },
          "metadata": {},
          "execution_count": 6
        }
      ]
    },
    {
      "cell_type": "code",
      "source": [
        "for a in range(len(images)):\n",
        "  images[a] = cv.cvtColor(images[a], cv.COLOR_BGR2RGB)\n",
        "\n",
        "gc.collect"
      ],
      "metadata": {
        "colab": {
          "base_uri": "https://localhost:8080/"
        },
        "id": "kaqaTrSBxCii",
        "outputId": "b97da3ae-f2de-4402-f2bd-1caa7c574ea5"
      },
      "execution_count": null,
      "outputs": [
        {
          "output_type": "execute_result",
          "data": {
            "text/plain": [
              "<function gc.collect>"
            ]
          },
          "metadata": {},
          "execution_count": 7
        }
      ]
    },
    {
      "cell_type": "code",
      "source": [
        "len(images)"
      ],
      "metadata": {
        "colab": {
          "base_uri": "https://localhost:8080/"
        },
        "id": "ICaNxIRBKAVT",
        "outputId": "b5d6b004-3e69-42a7-d1bf-320474960a89"
      },
      "execution_count": null,
      "outputs": [
        {
          "output_type": "execute_result",
          "data": {
            "text/plain": [
              "1000"
            ]
          },
          "metadata": {},
          "execution_count": 8
        }
      ]
    },
    {
      "cell_type": "code",
      "source": [
        "set_Y = []\n",
        "set_X = []\n",
        "\n",
        "\n",
        "set_Y = np.array([cv.resize(i,(320,240)) for i in images]) / 255.\n",
        "\n",
        "        \n",
        "gc.collect\n"
      ],
      "metadata": {
        "colab": {
          "base_uri": "https://localhost:8080/"
        },
        "id": "AySbOBeVyijk",
        "outputId": "72d08641-8fbc-4b57-9146-df9fa79fab42"
      },
      "execution_count": null,
      "outputs": [
        {
          "output_type": "execute_result",
          "data": {
            "text/plain": [
              "<function gc.collect>"
            ]
          },
          "metadata": {},
          "execution_count": 9
        }
      ]
    },
    {
      "cell_type": "code",
      "source": [
        "plt.imshow(set_Y[17])"
      ],
      "metadata": {
        "colab": {
          "base_uri": "https://localhost:8080/",
          "height": 286
        },
        "id": "xlYJl8Zpy2r1",
        "outputId": "502fdd70-f1c9-48db-c866-68930e927685"
      },
      "execution_count": null,
      "outputs": [
        {
          "output_type": "execute_result",
          "data": {
            "text/plain": [
              "<matplotlib.image.AxesImage at 0x7fed95c00090>"
            ]
          },
          "metadata": {},
          "execution_count": 10
        },
        {
          "output_type": "display_data",
          "data": {
            "text/plain": [
              "<Figure size 432x288 with 1 Axes>"
            ],
            "image/png": "[encoded data removed]"
          },
          "metadata": {
            "needs_background": "light"
          }
        }
      ]
    },
    {
      "cell_type": "code",
      "source": [
        "for a in range(len(images)):\n",
        "  images[a] = cv.resize(images[a], (80,60),interpolation=cv.INTER_LINEAR)\n",
        "gc.collect"
      ],
      "metadata": {
        "colab": {
          "base_uri": "https://localhost:8080/"
        },
        "id": "Ae_9djjHxMjA",
        "outputId": "462ff303-7942-4fbd-8c46-44d0aeba5d1e"
      },
      "execution_count": null,
      "outputs": [
        {
          "output_type": "execute_result",
          "data": {
            "text/plain": [
              "<function gc.collect>"
            ]
          },
          "metadata": {},
          "execution_count": 11
        }
      ]
    },
    {
      "cell_type": "code",
      "source": [
        "set_X  = np.array([cv.resize(i,(320,240), interpolation=cv.INTER_NEAREST) for i in images]) / 255.\n",
        "gc.collect\n"
      ],
      "metadata": {
        "colab": {
          "base_uri": "https://localhost:8080/"
        },
        "id": "ASmp_5b-xblv",
        "outputId": "69f6a3d1-1493-42b4-de26-690f716191fc"
      },
      "execution_count": null,
      "outputs": [
        {
          "output_type": "execute_result",
          "data": {
            "text/plain": [
              "<function gc.collect>"
            ]
          },
          "metadata": {},
          "execution_count": 12
        }
      ]
    },
    {
      "cell_type": "code",
      "source": [
        "plt.imshow(set_X[17])"
      ],
      "metadata": {
        "colab": {
          "base_uri": "https://localhost:8080/",
          "height": 286
        },
        "id": "XDWeGlUGyHLH",
        "outputId": "0bb61b35-644d-4a1d-af0b-b12fd69f1db1"
      },
      "execution_count": null,
      "outputs": [
        {
          "output_type": "execute_result",
          "data": {
            "text/plain": [
              "<matplotlib.image.AxesImage at 0x7fed80181a10>"
            ]
          },
          "metadata": {},
          "execution_count": 13
        },
        {
          "output_type": "display_data",
          "data": {
            "text/plain": [
              "<Figure size 432x288 with 1 Axes>"
            ],
            "image/png": "[encoded data removed]"
          },
          "metadata": {
            "needs_background": "light"
          }
        }
      ]
    },
    {
      "cell_type": "markdown",
      "source": [
        ""
      ],
      "metadata": {
        "id": "8hGS2a3eabPq"
      }
    },
    {
      "cell_type": "code",
      "source": [
        "X_train = set_X[0:800]\n",
        "X_test  = set_X[800:]\n",
        "\n",
        "\n",
        "y_train = set_Y[0:800]\n",
        "y_test  = set_Y[800:]\n",
        "gc.collect\n"
      ],
      "metadata": {
        "colab": {
          "base_uri": "https://localhost:8080/"
        },
        "id": "V8EpeM6v5xdy",
        "outputId": "8d03cdd9-0aa0-4bde-c3da-72edf00b6496"
      },
      "execution_count": null,
      "outputs": [
        {
          "output_type": "execute_result",
          "data": {
            "text/plain": [
              "<function gc.collect>"
            ]
          },
          "metadata": {},
          "execution_count": 14
        }
      ]
    },
    {
      "cell_type": "code",
      "source": [
        "model = model()"
      ],
      "metadata": {
        "id": "oEuie0ZX6rUE"
      },
      "execution_count": null,
      "outputs": []
    },
    {
      "cell_type": "code",
      "source": [
        "model.compile(optimizer=tf.keras.optimizers.Adam(0.0002),\n",
        "              loss='mse',       \n",
        "              metrics=['mae'])\n",
        "\n",
        "history = model.fit(X_train, y_train,\n",
        "                    batch_size=4,\n",
        "                    epochs=1,\n",
        "                    validation_split=0.2)\n",
        "\n",
        "test_scores = model.evaluate(X_test, y_test, verbose=2) \n",
        "\n",
        "print('Test loss:', test_scores[0])\n",
        "print('Test mae:', test_scores[1])\n",
        "\n",
        "model.save('EDSR_Tom&Jerry.h5')\n"
      ],
      "metadata": {
        "id": "iZ2r6GtmELJz",
        "colab": {
          "base_uri": "https://localhost:8080/"
        },
        "outputId": "4898ed17-e6f8-4394-fa41-536880eb4317"
      },
      "execution_count": null,
      "outputs": [
        {
          "output_type": "stream",
          "name": "stdout",
          "text": [
            "160/160 [==============================] - 667s 4s/step - loss: 0.0189 - mae: 0.1040 - val_loss: 0.0215 - val_mae: 0.1204\n",
            "7/7 - 62s - loss: 0.0218 - mae: 0.1220 - 62s/epoch - 9s/step\n",
            "Test loss: 0.021785687655210495\n",
            "Test mae: 0.12197313457727432\n"
          ]
        }
      ]
    },
    {
      "cell_type": "code",
      "source": [
        "images = []\n",
        "set_Y = []\n",
        "set_X = []\n",
        "X_train = []\n",
        "X_test  = []\n",
        "\n",
        "\n",
        "y_train = []\n",
        "y_test  = []\n",
        "gc.collect\n",
        "\n",
        "i=0\n",
        "\n",
        "for file in os.listdir('/content/drive/MyDrive/Tom&Jerry/Tom_2000/'):\n",
        "    images.append(cv.imread('/content/drive/MyDrive/Tom&Jerry/Tom_2000/{}'.format(file)))"
      ],
      "metadata": {
        "id": "bfNLmPadlRhN"
      },
      "execution_count": null,
      "outputs": []
    },
    {
      "cell_type": "code",
      "source": [
        "for a in range(len(images)):\n",
        "  images[a] = cv.cvtColor(images[a], cv.COLOR_BGR2RGB)\n",
        "\n",
        "gc.collect"
      ],
      "metadata": {
        "id": "WWkTHxOhlxLF",
        "colab": {
          "base_uri": "https://localhost:8080/"
        },
        "outputId": "ecd08629-12aa-4434-9dd9-5937f97b6d19"
      },
      "execution_count": null,
      "outputs": [
        {
          "output_type": "execute_result",
          "data": {
            "text/plain": [
              "<function gc.collect>"
            ]
          },
          "metadata": {},
          "execution_count": 19
        }
      ]
    },
    {
      "cell_type": "code",
      "source": [
        "set_Y = np.array([cv.resize(i,(320,240)) for i in images]) / 255.\n",
        "\n",
        "        \n",
        "gc.collect\n"
      ],
      "metadata": {
        "id": "fKSfedKImP8T",
        "colab": {
          "base_uri": "https://localhost:8080/"
        },
        "outputId": "1941ff94-4411-4f2d-e1df-5c841c8a7a91"
      },
      "execution_count": null,
      "outputs": [
        {
          "output_type": "execute_result",
          "data": {
            "text/plain": [
              "<function gc.collect>"
            ]
          },
          "metadata": {},
          "execution_count": 20
        }
      ]
    },
    {
      "cell_type": "code",
      "source": [
        "for a in range(len(images)):\n",
        "  images[a] = cv.resize(images[a], (80,60),interpolation=cv.INTER_LINEAR)\n",
        "gc.collect"
      ],
      "metadata": {
        "id": "vwMaz0v8mQq3",
        "colab": {
          "base_uri": "https://localhost:8080/"
        },
        "outputId": "3da9c75e-8c28-428f-fa46-51b2fa17b8fe"
      },
      "execution_count": null,
      "outputs": [
        {
          "output_type": "execute_result",
          "data": {
            "text/plain": [
              "<function gc.collect>"
            ]
          },
          "metadata": {},
          "execution_count": 21
        }
      ]
    },
    {
      "cell_type": "code",
      "source": [
        "set_X  = np.array([cv.resize(i,(320,240), interpolation=cv.INTER_NEAREST) for i in images]) / 255.\n",
        "gc.collect\n"
      ],
      "metadata": {
        "id": "1DnQF_PsmVLa",
        "colab": {
          "base_uri": "https://localhost:8080/"
        },
        "outputId": "9445fd9a-f5ce-4574-fe07-fd720af28215"
      },
      "execution_count": null,
      "outputs": [
        {
          "output_type": "execute_result",
          "data": {
            "text/plain": [
              "<function gc.collect>"
            ]
          },
          "metadata": {},
          "execution_count": 22
        }
      ]
    },
    {
      "cell_type": "code",
      "source": [
        "X_train = set_X[0:800]\n",
        "X_test  = set_X[800:]\n",
        "\n",
        "\n",
        "y_train = set_Y[0:800]\n",
        "y_test  = set_Y[800:]\n",
        "gc.collect"
      ],
      "metadata": {
        "id": "zCBS71M2md3-",
        "colab": {
          "base_uri": "https://localhost:8080/"
        },
        "outputId": "370d5bfb-9f23-4e83-c0e8-60aa32095fb4"
      },
      "execution_count": null,
      "outputs": [
        {
          "output_type": "execute_result",
          "data": {
            "text/plain": [
              "<function gc.collect>"
            ]
          },
          "metadata": {},
          "execution_count": 23
        }
      ]
    },
    {
      "cell_type": "code",
      "source": [
        "model = keras.models.load_model('/content/EDSR_Tom&Jerry.h5')"
      ],
      "metadata": {
        "id": "79KP4bYum5SR"
      },
      "execution_count": null,
      "outputs": []
    },
    {
      "cell_type": "code",
      "source": [
        "model.compile(optimizer=tf.keras.optimizers.Adam(0.0002),\n",
        "              loss='mse',       \n",
        "              metrics=['mae'])\n",
        "\n",
        "history = model.fit(X_train, y_train,\n",
        "                    batch_size=4,\n",
        "                    epochs=1,\n",
        "                    validation_split=0.2)\n",
        "\n",
        "test_scores = model.evaluate(X_test, y_test, verbose=2) \n",
        "\n",
        "print('Test loss:', test_scores[0])\n",
        "print('Test mae:', test_scores[1])\n",
        "\n",
        "model.save('EDSR_Tom&Jerry_2.h5')"
      ],
      "metadata": {
        "id": "WZfNKC_RnIz-",
        "colab": {
          "base_uri": "https://localhost:8080/"
        },
        "outputId": "fda24e57-c161-455d-9e46-4905beb3e92a"
      },
      "execution_count": null,
      "outputs": [
        {
          "output_type": "stream",
          "name": "stdout",
          "text": [
            "160/160 [==============================] - 662s 4s/step - loss: 0.0137 - mae: 0.0874 - val_loss: 0.0502 - val_mae: 0.2036\n",
            "7/7 - 39s - loss: 0.0458 - mae: 0.1927 - 39s/epoch - 6s/step\n",
            "Test loss: 0.04576455056667328\n",
            "Test mae: 0.1926606148481369\n"
          ]
        }
      ]
    },
    {
      "cell_type": "code",
      "source": [
        "images = []\n",
        "set_Y = []\n",
        "set_X = []\n",
        "X_train = []\n",
        "X_test  = []\n",
        "\n",
        "\n",
        "y_train = []\n",
        "y_test  = []\n",
        "gc.collect"
      ],
      "metadata": {
        "id": "Ek3XTymbnxOg",
        "colab": {
          "base_uri": "https://localhost:8080/"
        },
        "outputId": "9317fd36-2123-48f9-ea23-8d7b520651fa"
      },
      "execution_count": null,
      "outputs": [
        {
          "output_type": "execute_result",
          "data": {
            "text/plain": [
              "<function gc.collect>"
            ]
          },
          "metadata": {},
          "execution_count": 9
        }
      ]
    },
    {
      "cell_type": "code",
      "source": [
        "i=0\n",
        "\n",
        "for file in os.listdir('/content/drive/MyDrive/Tom&Jerry/Tom_3000/'):\n",
        "    images.append(cv.imread('/content/drive/MyDrive/Tom&Jerry/Tom_3000/{}'.format(file)))"
      ],
      "metadata": {
        "id": "S4lKNtUOn5oW"
      },
      "execution_count": null,
      "outputs": []
    },
    {
      "cell_type": "code",
      "source": [
        "for a in range(len(images)):\n",
        "  images[a] = cv.cvtColor(images[a], cv.COLOR_BGR2RGB)\n",
        "\n",
        "gc.collect"
      ],
      "metadata": {
        "id": "zp_aH3mXoE_7",
        "colab": {
          "base_uri": "https://localhost:8080/"
        },
        "outputId": "3d418b5c-e098-46d0-b388-a61f0f63be50"
      },
      "execution_count": null,
      "outputs": [
        {
          "output_type": "execute_result",
          "data": {
            "text/plain": [
              "<function gc.collect>"
            ]
          },
          "metadata": {},
          "execution_count": 11
        }
      ]
    },
    {
      "cell_type": "code",
      "source": [
        "set_Y = np.array([cv.resize(i,(320,240)) for i in images]) / 255.\n",
        "\n",
        "        \n",
        "gc.collect"
      ],
      "metadata": {
        "id": "isOP3cH2oN7x",
        "colab": {
          "base_uri": "https://localhost:8080/"
        },
        "outputId": "1bb94ecb-5125-4546-9ef8-b95fdfb649f5"
      },
      "execution_count": null,
      "outputs": [
        {
          "output_type": "execute_result",
          "data": {
            "text/plain": [
              "<function gc.collect>"
            ]
          },
          "metadata": {},
          "execution_count": 12
        }
      ]
    },
    {
      "cell_type": "code",
      "source": [
        "for a in range(len(images)):\n",
        "  images[a] = cv.resize(images[a], (80,60),interpolation=cv.INTER_LINEAR)\n",
        "gc.collect"
      ],
      "metadata": {
        "id": "NuA65XHcoSOY",
        "colab": {
          "base_uri": "https://localhost:8080/"
        },
        "outputId": "f8c09d71-7365-4dd1-fcbf-76ee67963674"
      },
      "execution_count": null,
      "outputs": [
        {
          "output_type": "execute_result",
          "data": {
            "text/plain": [
              "<function gc.collect>"
            ]
          },
          "metadata": {},
          "execution_count": 13
        }
      ]
    },
    {
      "cell_type": "code",
      "source": [
        "set_X  = np.array([cv.resize(i,(320,240), interpolation=cv.INTER_NEAREST) for i in images]) / 255.\n",
        "gc.collect"
      ],
      "metadata": {
        "id": "tbXQm5L9oXIH",
        "colab": {
          "base_uri": "https://localhost:8080/"
        },
        "outputId": "78a42dfe-dca9-4d3c-e84f-946f2a7b3564"
      },
      "execution_count": null,
      "outputs": [
        {
          "output_type": "execute_result",
          "data": {
            "text/plain": [
              "<function gc.collect>"
            ]
          },
          "metadata": {},
          "execution_count": 14
        }
      ]
    },
    {
      "cell_type": "code",
      "source": [
        "X_train = set_X[0:800]\n",
        "X_test  = set_X[800:]\n",
        "\n",
        "\n",
        "y_train = set_Y[0:800]\n",
        "y_test  = set_Y[800:]\n",
        "gc.collect"
      ],
      "metadata": {
        "id": "xIf016Elofi4",
        "colab": {
          "base_uri": "https://localhost:8080/"
        },
        "outputId": "5e9ef95c-a8d9-4e42-e04d-6b4b23befeac"
      },
      "execution_count": null,
      "outputs": [
        {
          "output_type": "execute_result",
          "data": {
            "text/plain": [
              "<function gc.collect>"
            ]
          },
          "metadata": {},
          "execution_count": 15
        }
      ]
    },
    {
      "cell_type": "code",
      "source": [
        "model = keras.models.load_model('/content/EDSR_Tom&Jerry_2.h5')\n",
        "\n",
        "model.compile(optimizer=tf.keras.optimizers.Adam(0.0002),\n",
        "              loss='mse',       \n",
        "              metrics=['mae'])\n",
        "\n",
        "history = model.fit(X_train, y_train,\n",
        "                    batch_size=4,\n",
        "                    epochs=1,\n",
        "                    validation_split=0.2)\n",
        "\n",
        "test_scores = model.evaluate(X_test, y_test, verbose=2) \n",
        "\n",
        "print('Test loss:', test_scores[0])\n",
        "print('Test mae:', test_scores[1])\n",
        "\n",
        "model.save('EDSR_Tom&Jerry_3.h5')"
      ],
      "metadata": {
        "id": "s7Ll5n0aoh7m",
        "colab": {
          "base_uri": "https://localhost:8080/"
        },
        "outputId": "6caeedb3-fc26-411f-e66d-3d1e8fac4b3b"
      },
      "execution_count": null,
      "outputs": [
        {
          "output_type": "stream",
          "name": "stdout",
          "text": [
            "160/160 [==============================] - 708s 4s/step - loss: 0.0095 - mae: 0.0723 - val_loss: 0.0221 - val_mae: 0.1322\n",
            "7/7 - 62s - loss: 0.0184 - mae: 0.1206 - 62s/epoch - 9s/step\n",
            "Test loss: 0.018392177298665047\n",
            "Test mae: 0.12061059474945068\n"
          ]
        }
      ]
    },
    {
      "cell_type": "code",
      "source": [
        "images = []\n",
        "set_Y = []\n",
        "set_X = []\n",
        "X_train = []\n",
        "X_test  = []\n",
        "\n",
        "\n",
        "y_train = []\n",
        "y_test  = []\n",
        "gc.collect"
      ],
      "metadata": {
        "id": "mHQbL-ygpRnP",
        "colab": {
          "base_uri": "https://localhost:8080/"
        },
        "outputId": "8ffe9d19-7731-4f51-e648-ccb3d6930128"
      },
      "execution_count": null,
      "outputs": [
        {
          "output_type": "execute_result",
          "data": {
            "text/plain": [
              "<function gc.collect>"
            ]
          },
          "metadata": {},
          "execution_count": 17
        }
      ]
    },
    {
      "cell_type": "code",
      "source": [
        "i=0\n",
        "\n",
        "for file in os.listdir('/content/drive/MyDrive/Tom&Jerry/Tom_4000/'):\n",
        "    images.append(cv.imread('/content/drive/MyDrive/Tom&Jerry/Tom_4000/{}'.format(file)))"
      ],
      "metadata": {
        "id": "Z6IDu55bpU84"
      },
      "execution_count": null,
      "outputs": []
    },
    {
      "cell_type": "code",
      "source": [
        "for a in range(len(images)):\n",
        "  images[a] = cv.cvtColor(images[a], cv.COLOR_BGR2RGB)\n",
        "\n",
        "gc.collect"
      ],
      "metadata": {
        "id": "_QCL0xpHpg8-",
        "colab": {
          "base_uri": "https://localhost:8080/"
        },
        "outputId": "db46680a-496c-4758-e576-709c76980853"
      },
      "execution_count": null,
      "outputs": [
        {
          "output_type": "execute_result",
          "data": {
            "text/plain": [
              "<function gc.collect>"
            ]
          },
          "metadata": {},
          "execution_count": 19
        }
      ]
    },
    {
      "cell_type": "code",
      "source": [
        "set_Y = np.array([cv.resize(i,(320,240)) for i in images]) / 255.\n",
        "\n",
        "        \n",
        "gc.collect"
      ],
      "metadata": {
        "id": "NtUmcuroppKc",
        "colab": {
          "base_uri": "https://localhost:8080/"
        },
        "outputId": "91a16317-1586-4916-9c89-11e34a859e80"
      },
      "execution_count": null,
      "outputs": [
        {
          "output_type": "execute_result",
          "data": {
            "text/plain": [
              "<function gc.collect>"
            ]
          },
          "metadata": {},
          "execution_count": 20
        }
      ]
    },
    {
      "cell_type": "code",
      "source": [
        "for a in range(len(images)):\n",
        "  images[a] = cv.resize(images[a], (80,60),interpolation=cv.INTER_LINEAR)\n",
        "gc.collect"
      ],
      "metadata": {
        "id": "6QI17bmdpu_-",
        "colab": {
          "base_uri": "https://localhost:8080/"
        },
        "outputId": "c0952b55-d441-46ab-f816-0e21fa12cbad"
      },
      "execution_count": null,
      "outputs": [
        {
          "output_type": "execute_result",
          "data": {
            "text/plain": [
              "<function gc.collect>"
            ]
          },
          "metadata": {},
          "execution_count": 21
        }
      ]
    },
    {
      "cell_type": "code",
      "source": [
        "set_X  = np.array([cv.resize(i,(320,240), interpolation=cv.INTER_NEAREST) for i in images]) / 255.\n",
        "gc.collect"
      ],
      "metadata": {
        "id": "LRUfcZG3pw05",
        "colab": {
          "base_uri": "https://localhost:8080/"
        },
        "outputId": "b3026ee7-b57f-4bce-9696-df4b7d405754"
      },
      "execution_count": null,
      "outputs": [
        {
          "output_type": "execute_result",
          "data": {
            "text/plain": [
              "<function gc.collect>"
            ]
          },
          "metadata": {},
          "execution_count": 22
        }
      ]
    },
    {
      "cell_type": "code",
      "source": [
        "X_train = set_X[0:800]\n",
        "X_test  = set_X[800:]\n",
        "\n",
        "\n",
        "y_train = set_Y[0:800]\n",
        "y_test  = set_Y[800:]\n",
        "gc.collect"
      ],
      "metadata": {
        "id": "0uLSxcvQp315",
        "colab": {
          "base_uri": "https://localhost:8080/"
        },
        "outputId": "1395f904-3db0-4820-f2a5-fc626de4897c"
      },
      "execution_count": null,
      "outputs": [
        {
          "output_type": "execute_result",
          "data": {
            "text/plain": [
              "<function gc.collect>"
            ]
          },
          "metadata": {},
          "execution_count": 23
        }
      ]
    },
    {
      "cell_type": "code",
      "source": [
        "model = keras.models.load_model('/content/EDSR_Tom&Jerry_3.h5')\n",
        "\n",
        "model.compile(optimizer=tf.keras.optimizers.Adam(0.0002),\n",
        "              loss='mse',       \n",
        "              metrics=['mae'])\n",
        "\n",
        "history = model.fit(X_train, y_train,\n",
        "                    batch_size=4,\n",
        "                    epochs=1,\n",
        "                    validation_split=0.2)\n",
        "\n",
        "test_scores = model.evaluate(X_test, y_test, verbose=2) \n",
        "\n",
        "print('Test loss:', test_scores[0])\n",
        "print('Test mae:', test_scores[1])\n",
        "\n",
        "model.save('EDSR_Tom&Jerry_4.h5')"
      ],
      "metadata": {
        "id": "69jwgySxp9z-",
        "colab": {
          "base_uri": "https://localhost:8080/",
          "height": 1000
        },
        "outputId": "34d4373a-fd36-4025-8268-4f394fe58f96"
      },
      "execution_count": null,
      "outputs": [
        {
          "output_type": "stream",
          "name": "stdout",
          "text": [
            "160/160 [==============================] - 660s 4s/step - loss: 0.0089 - mae: 0.0688 - val_loss: 0.0127 - val_mae: 0.0849\n"
          ]
        },
        {
          "output_type": "error",
          "ename": "ResourceExhaustedError",
          "evalue": "ignored",
          "traceback": [
            "\u001b[0;31m---------------------------------------------------------------------------\u001b[0m",
            "\u001b[0;31mResourceExhaustedError\u001b[0m                    Traceback (most recent call last)",
            "\u001b[0;32m<ipython-input-24-ddee91551748>\u001b[0m in \u001b[0;36m<module>\u001b[0;34m()\u001b[0m\n\u001b[1;32m     10\u001b[0m                     validation_split=0.2)\n\u001b[1;32m     11\u001b[0m \u001b[0;34m\u001b[0m\u001b[0m\n\u001b[0;32m---> 12\u001b[0;31m \u001b[0mtest_scores\u001b[0m \u001b[0;34m=\u001b[0m \u001b[0mmodel\u001b[0m\u001b[0;34m.\u001b[0m\u001b[0mevaluate\u001b[0m\u001b[0;34m(\u001b[0m\u001b[0mX_test\u001b[0m\u001b[0;34m,\u001b[0m \u001b[0my_test\u001b[0m\u001b[0;34m,\u001b[0m \u001b[0mverbose\u001b[0m\u001b[0;34m=\u001b[0m\u001b[0;36m2\u001b[0m\u001b[0;34m)\u001b[0m\u001b[0;34m\u001b[0m\u001b[0;34m\u001b[0m\u001b[0m\n\u001b[0m\u001b[1;32m     13\u001b[0m \u001b[0;34m\u001b[0m\u001b[0m\n\u001b[1;32m     14\u001b[0m \u001b[0mprint\u001b[0m\u001b[0;34m(\u001b[0m\u001b[0;34m'Test loss:'\u001b[0m\u001b[0;34m,\u001b[0m \u001b[0mtest_scores\u001b[0m\u001b[0;34m[\u001b[0m\u001b[0;36m0\u001b[0m\u001b[0;34m]\u001b[0m\u001b[0;34m)\u001b[0m\u001b[0;34m\u001b[0m\u001b[0;34m\u001b[0m\u001b[0m\n",
            "\u001b[0;32m/usr/local/lib/python3.7/dist-packages/keras/utils/traceback_utils.py\u001b[0m in \u001b[0;36merror_handler\u001b[0;34m(*args, **kwargs)\u001b[0m\n\u001b[1;32m     65\u001b[0m     \u001b[0;32mexcept\u001b[0m \u001b[0mException\u001b[0m \u001b[0;32mas\u001b[0m \u001b[0me\u001b[0m\u001b[0;34m:\u001b[0m  \u001b[0;31m# pylint: disable=broad-except\u001b[0m\u001b[0;34m\u001b[0m\u001b[0;34m\u001b[0m\u001b[0m\n\u001b[1;32m     66\u001b[0m       \u001b[0mfiltered_tb\u001b[0m \u001b[0;34m=\u001b[0m \u001b[0m_process_traceback_frames\u001b[0m\u001b[0;34m(\u001b[0m\u001b[0me\u001b[0m\u001b[0;34m.\u001b[0m\u001b[0m__traceback__\u001b[0m\u001b[0;34m)\u001b[0m\u001b[0;34m\u001b[0m\u001b[0;34m\u001b[0m\u001b[0m\n\u001b[0;32m---> 67\u001b[0;31m       \u001b[0;32mraise\u001b[0m \u001b[0me\u001b[0m\u001b[0;34m.\u001b[0m\u001b[0mwith_traceback\u001b[0m\u001b[0;34m(\u001b[0m\u001b[0mfiltered_tb\u001b[0m\u001b[0;34m)\u001b[0m \u001b[0;32mfrom\u001b[0m \u001b[0;32mNone\u001b[0m\u001b[0;34m\u001b[0m\u001b[0;34m\u001b[0m\u001b[0m\n\u001b[0m\u001b[1;32m     68\u001b[0m     \u001b[0;32mfinally\u001b[0m\u001b[0;34m:\u001b[0m\u001b[0;34m\u001b[0m\u001b[0;34m\u001b[0m\u001b[0m\n\u001b[1;32m     69\u001b[0m       \u001b[0;32mdel\u001b[0m \u001b[0mfiltered_tb\u001b[0m\u001b[0;34m\u001b[0m\u001b[0;34m\u001b[0m\u001b[0m\n",
            "\u001b[0;32m/usr/local/lib/python3.7/dist-packages/tensorflow/python/eager/execute.py\u001b[0m in \u001b[0;36mquick_execute\u001b[0;34m(op_name, num_outputs, inputs, attrs, ctx, name)\u001b[0m\n\u001b[1;32m     53\u001b[0m     \u001b[0mctx\u001b[0m\u001b[0;34m.\u001b[0m\u001b[0mensure_initialized\u001b[0m\u001b[0;34m(\u001b[0m\u001b[0;34m)\u001b[0m\u001b[0;34m\u001b[0m\u001b[0;34m\u001b[0m\u001b[0m\n\u001b[1;32m     54\u001b[0m     tensors = pywrap_tfe.TFE_Py_Execute(ctx._handle, device_name, op_name,\n\u001b[0;32m---> 55\u001b[0;31m                                         inputs, attrs, num_outputs)\n\u001b[0m\u001b[1;32m     56\u001b[0m   \u001b[0;32mexcept\u001b[0m \u001b[0mcore\u001b[0m\u001b[0;34m.\u001b[0m\u001b[0m_NotOkStatusException\u001b[0m \u001b[0;32mas\u001b[0m \u001b[0me\u001b[0m\u001b[0;34m:\u001b[0m\u001b[0;34m\u001b[0m\u001b[0;34m\u001b[0m\u001b[0m\n\u001b[1;32m     57\u001b[0m     \u001b[0;32mif\u001b[0m \u001b[0mname\u001b[0m \u001b[0;32mis\u001b[0m \u001b[0;32mnot\u001b[0m \u001b[0;32mNone\u001b[0m\u001b[0;34m:\u001b[0m\u001b[0;34m\u001b[0m\u001b[0;34m\u001b[0m\u001b[0m\n",
            "\u001b[0;31mResourceExhaustedError\u001b[0m: Graph execution error:\n\nDetected at node 'model/tf.nn.depth_to_space/DepthToSpace' defined at (most recent call last):\n    File \"/usr/lib/python3.7/runpy.py\", line 193, in _run_module_as_main\n      \"__main__\", mod_spec)\n    File \"/usr/lib/python3.7/runpy.py\", line 85, in _run_code\n      exec(code, run_globals)\n    File \"/usr/local/lib/python3.7/dist-packages/ipykernel_launcher.py\", line 16, in <module>\n      app.launch_new_instance()\n    File \"/usr/local/lib/python3.7/dist-packages/traitlets/config/application.py\", line 846, in launch_instance\n      app.start()\n    File \"/usr/local/lib/python3.7/dist-packages/ipykernel/kernelapp.py\", line 499, in start\n      self.io_loop.start()\n    File \"/usr/local/lib/python3.7/dist-packages/tornado/platform/asyncio.py\", line 132, in start\n      self.asyncio_loop.run_forever()\n    File \"/usr/lib/python3.7/asyncio/base_events.py\", line 541, in run_forever\n      self._run_once()\n    File \"/usr/lib/python3.7/asyncio/base_events.py\", line 1786, in _run_once\n      handle._run()\n    File \"/usr/lib/python3.7/asyncio/events.py\", line 88, in _run\n      self._context.run(self._callback, *self._args)\n    File \"/usr/local/lib/python3.7/dist-packages/tornado/ioloop.py\", line 758, in _run_callback\n      ret = callback()\n    File \"/usr/local/lib/python3.7/dist-packages/tornado/stack_context.py\", line 300, in null_wrapper\n      return fn(*args, **kwargs)\n    File \"/usr/local/lib/python3.7/dist-packages/zmq/eventloop/zmqstream.py\", line 536, in <lambda>\n      self.io_loop.add_callback(lambda: self._handle_events(self.socket, 0))\n    File \"/usr/local/lib/python3.7/dist-packages/zmq/eventloop/zmqstream.py\", line 452, in _handle_events\n      self._handle_recv()\n    File \"/usr/local/lib/python3.7/dist-packages/zmq/eventloop/zmqstream.py\", line 481, in _handle_recv\n      self._run_callback(callback, msg)\n    File \"/usr/local/lib/python3.7/dist-packages/zmq/eventloop/zmqstream.py\", line 431, in _run_callback\n      callback(*args, **kwargs)\n    File \"/usr/local/lib/python3.7/dist-packages/tornado/stack_context.py\", line 300, in null_wrapper\n      return fn(*args, **kwargs)\n    File \"/usr/local/lib/python3.7/dist-packages/ipykernel/kernelbase.py\", line 283, in dispatcher\n      return self.dispatch_shell(stream, msg)\n    File \"/usr/local/lib/python3.7/dist-packages/ipykernel/kernelbase.py\", line 233, in dispatch_shell\n      handler(stream, idents, msg)\n    File \"/usr/local/lib/python3.7/dist-packages/ipykernel/kernelbase.py\", line 399, in execute_request\n      user_expressions, allow_stdin)\n    File \"/usr/local/lib/python3.7/dist-packages/ipykernel/ipkernel.py\", line 208, in do_execute\n      res = shell.run_cell(code, store_history=store_history, silent=silent)\n    File \"/usr/local/lib/python3.7/dist-packages/ipykernel/zmqshell.py\", line 537, in run_cell\n      return super(ZMQInteractiveShell, self).run_cell(*args, **kwargs)\n    File \"/usr/local/lib/python3.7/dist-packages/IPython/core/interactiveshell.py\", line 2718, in run_cell\n      interactivity=interactivity, compiler=compiler, result=result)\n    File \"/usr/local/lib/python3.7/dist-packages/IPython/core/interactiveshell.py\", line 2822, in run_ast_nodes\n      if self.run_code(code, result):\n    File \"/usr/local/lib/python3.7/dist-packages/IPython/core/interactiveshell.py\", line 2882, in run_code\n      exec(code_obj, self.user_global_ns, self.user_ns)\n    File \"<ipython-input-24-ddee91551748>\", line 12, in <module>\n      test_scores = model.evaluate(X_test, y_test, verbose=2)\n    File \"/usr/local/lib/python3.7/dist-packages/keras/utils/traceback_utils.py\", line 64, in error_handler\n      return fn(*args, **kwargs)\n    File \"/usr/local/lib/python3.7/dist-packages/keras/engine/training.py\", line 1716, in evaluate\n      tmp_logs = self.test_function(iterator)\n    File \"/usr/local/lib/python3.7/dist-packages/keras/engine/training.py\", line 1525, in test_function\n      return step_function(self, iterator)\n    File \"/usr/local/lib/python3.7/dist-packages/keras/engine/training.py\", line 1514, in step_function\n      outputs = model.distribute_strategy.run(run_step, args=(data,))\n    File \"/usr/local/lib/python3.7/dist-packages/keras/engine/training.py\", line 1507, in run_step\n      outputs = model.test_step(data)\n    File \"/usr/local/lib/python3.7/dist-packages/keras/engine/training.py\", line 1471, in test_step\n      y_pred = self(x, training=False)\n    File \"/usr/local/lib/python3.7/dist-packages/keras/utils/traceback_utils.py\", line 64, in error_handler\n      return fn(*args, **kwargs)\n    File \"/usr/local/lib/python3.7/dist-packages/keras/engine/base_layer.py\", line 1096, in __call__\n      outputs = call_fn(inputs, *args, **kwargs)\n    File \"/usr/local/lib/python3.7/dist-packages/keras/utils/traceback_utils.py\", line 92, in error_handler\n      return fn(*args, **kwargs)\n    File \"/usr/local/lib/python3.7/dist-packages/keras/engine/functional.py\", line 452, in call\n      inputs, training=training, mask=mask)\n    File \"/usr/local/lib/python3.7/dist-packages/keras/engine/functional.py\", line 589, in _run_internal_graph\n      outputs = node.layer(*args, **kwargs)\n    File \"/usr/local/lib/python3.7/dist-packages/keras/utils/traceback_utils.py\", line 64, in error_handler\n      return fn(*args, **kwargs)\n    File \"/usr/local/lib/python3.7/dist-packages/keras/engine/base_layer.py\", line 1096, in __call__\n      outputs = call_fn(inputs, *args, **kwargs)\n    File \"/usr/local/lib/python3.7/dist-packages/keras/utils/traceback_utils.py\", line 92, in error_handler\n      return fn(*args, **kwargs)\n    File \"/usr/local/lib/python3.7/dist-packages/keras/layers/core/tf_op_layer.py\", line 226, in _call_wrapper\n      return self._call_wrapper(*args, **kwargs)\n    File \"/usr/local/lib/python3.7/dist-packages/keras/layers/core/tf_op_layer.py\", line 261, in _call_wrapper\n      result = self.function(*args, **kwargs)\nNode: 'model/tf.nn.depth_to_space/DepthToSpace'\nOOM when allocating tensor with shape[32,64,480,640] and type float on /job:localhost/replica:0/task:0/device:GPU:0 by allocator GPU_0_bfc\n\t [[{{node model/tf.nn.depth_to_space/DepthToSpace}}]]\nHint: If you want to see a list of allocated tensors when OOM happens, add report_tensor_allocations_upon_oom to RunOptions for current allocation info. This isn't available when running in Eager mode.\n [Op:__inference_test_function_17587]"
          ]
        }
      ]
    },
    {
      "cell_type": "code",
      "source": [
        "images = []\n",
        "set_Y = []\n",
        "set_X = []\n",
        "X_train = []\n",
        "X_test  = []\n",
        "\n",
        "\n",
        "y_train = []\n",
        "y_test  = []\n",
        "gc.collect"
      ],
      "metadata": {
        "id": "tDHSOpL5qPME",
        "colab": {
          "base_uri": "https://localhost:8080/"
        },
        "outputId": "6a0c0336-d9c8-418d-93f6-a473241e3b50"
      },
      "execution_count": null,
      "outputs": [
        {
          "output_type": "execute_result",
          "data": {
            "text/plain": [
              "<function gc.collect>"
            ]
          },
          "metadata": {},
          "execution_count": 3
        }
      ]
    },
    {
      "cell_type": "code",
      "source": [
        "i=0\n",
        "\n",
        "for file in os.listdir('/content/drive/MyDrive/Tom&Jerry/Tom_5000/'):\n",
        "    images.append(cv.imread('/content/drive/MyDrive/Tom&Jerry/Tom_5000/{}'.format(file)))"
      ],
      "metadata": {
        "id": "DwN-oHGAqUo_"
      },
      "execution_count": null,
      "outputs": []
    },
    {
      "cell_type": "code",
      "source": [
        "for a in range(len(images)):\n",
        "  images[a] = cv.cvtColor(images[a], cv.COLOR_BGR2RGB)\n",
        "\n",
        "gc.collect"
      ],
      "metadata": {
        "id": "5IYW1kEcqaKz",
        "colab": {
          "base_uri": "https://localhost:8080/"
        },
        "outputId": "67247645-5541-4297-dd2b-ae84e775f53f"
      },
      "execution_count": null,
      "outputs": [
        {
          "output_type": "execute_result",
          "data": {
            "text/plain": [
              "<function gc.collect>"
            ]
          },
          "metadata": {},
          "execution_count": 5
        }
      ]
    },
    {
      "cell_type": "code",
      "source": [
        "set_Y = np.array([cv.resize(i,(320,240)) for i in images]) / 255.\n",
        "\n",
        "        \n",
        "gc.collect"
      ],
      "metadata": {
        "id": "qCt_g_MTqd2K",
        "colab": {
          "base_uri": "https://localhost:8080/"
        },
        "outputId": "b390b9e9-c9da-423f-9c9a-85084760a78b"
      },
      "execution_count": null,
      "outputs": [
        {
          "output_type": "execute_result",
          "data": {
            "text/plain": [
              "<function gc.collect>"
            ]
          },
          "metadata": {},
          "execution_count": 6
        }
      ]
    },
    {
      "cell_type": "code",
      "source": [
        "for a in range(len(images)):\n",
        "  images[a] = cv.resize(images[a], (80,60),interpolation=cv.INTER_LINEAR)\n",
        "gc.collect"
      ],
      "metadata": {
        "id": "SFH-Ha3FqlDc",
        "colab": {
          "base_uri": "https://localhost:8080/"
        },
        "outputId": "dff7436c-512c-4106-fb22-454b221602a3"
      },
      "execution_count": null,
      "outputs": [
        {
          "output_type": "execute_result",
          "data": {
            "text/plain": [
              "<function gc.collect>"
            ]
          },
          "metadata": {},
          "execution_count": 7
        }
      ]
    },
    {
      "cell_type": "code",
      "source": [
        "set_X  = np.array([cv.resize(i,(320,240), interpolation=cv.INTER_NEAREST) for i in images]) / 255.\n",
        "gc.collect"
      ],
      "metadata": {
        "id": "YeB8yN_Mqo90",
        "colab": {
          "base_uri": "https://localhost:8080/"
        },
        "outputId": "56e75df3-f3d5-4f5c-e69d-d2531b3131d9"
      },
      "execution_count": null,
      "outputs": [
        {
          "output_type": "execute_result",
          "data": {
            "text/plain": [
              "<function gc.collect>"
            ]
          },
          "metadata": {},
          "execution_count": 8
        }
      ]
    },
    {
      "cell_type": "code",
      "source": [
        "X_train = set_X[0:800]\n",
        "X_test  = set_X[800:]\n",
        "\n",
        "\n",
        "y_train = set_Y[0:800]\n",
        "y_test  = set_Y[800:]\n",
        "gc.collect"
      ],
      "metadata": {
        "id": "I3of8J3HqsML",
        "colab": {
          "base_uri": "https://localhost:8080/"
        },
        "outputId": "b24a7058-4f66-4055-b0af-8121fd13a699"
      },
      "execution_count": null,
      "outputs": [
        {
          "output_type": "execute_result",
          "data": {
            "text/plain": [
              "<function gc.collect>"
            ]
          },
          "metadata": {},
          "execution_count": 9
        }
      ]
    },
    {
      "cell_type": "code",
      "source": [
        "model = keras.models.load_model('/content/EDSR_Tom&Jerry_4.h5')\n",
        "\n",
        "model.compile(optimizer=tf.keras.optimizers.Adam(0.0002),\n",
        "              loss='mse',       \n",
        "              metrics=['mae'])\n",
        "\n",
        "history = model.fit(X_train, y_train,\n",
        "                    batch_size=4,\n",
        "                    epochs=1,\n",
        "                    validation_split=0.2)\n",
        "\n",
        "test_scores = model.evaluate(X_test, y_test, verbose=2) \n",
        "\n",
        "print('Test loss:', test_scores[0])\n",
        "print('Test mae:', test_scores[1])\n",
        "\n",
        "model.save('EDSR_Tom&Jerry_5.h5')"
      ],
      "metadata": {
        "id": "usSl9KxlqxRF",
        "colab": {
          "base_uri": "https://localhost:8080/"
        },
        "outputId": "01116ed3-5d46-4dc6-fa6d-79805fb951ed"
      },
      "execution_count": null,
      "outputs": [
        {
          "output_type": "stream",
          "name": "stdout",
          "text": [
            "160/160 [==============================] - 711s 4s/step - loss: 0.0074 - mae: 0.0620 - val_loss: 0.0196 - val_mae: 0.1157\n",
            "7/7 - 62s - loss: 0.0201 - mae: 0.1137 - 62s/epoch - 9s/step\n",
            "Test loss: 0.020094605162739754\n",
            "Test mae: 0.11370263993740082\n"
          ]
        }
      ]
    },
    {
      "cell_type": "code",
      "source": [
        "images = []\n",
        "set_Y = []\n",
        "set_X = []\n",
        "X_train = []\n",
        "X_test  = []\n",
        "\n",
        "\n",
        "y_train = []\n",
        "y_test  = []\n",
        "gc.collect"
      ],
      "metadata": {
        "id": "NNijYGPxrctV",
        "colab": {
          "base_uri": "https://localhost:8080/"
        },
        "outputId": "7e67c294-3d2c-46aa-f6db-b5ed398683ab"
      },
      "execution_count": null,
      "outputs": [
        {
          "output_type": "execute_result",
          "data": {
            "text/plain": [
              "<function gc.collect>"
            ]
          },
          "metadata": {},
          "execution_count": 11
        }
      ]
    },
    {
      "cell_type": "code",
      "source": [
        "i=0\n",
        "\n",
        "for file in os.listdir('/content/drive/MyDrive/Tom&Jerry/Tom_6000/'):\n",
        "    images.append(cv.imread('/content/drive/MyDrive/Tom&Jerry/Tom_6000/{}'.format(file)))"
      ],
      "metadata": {
        "id": "dg9zFEXQrkgk"
      },
      "execution_count": null,
      "outputs": []
    },
    {
      "cell_type": "code",
      "source": [
        "for a in range(len(images)):\n",
        "  images[a] = cv.cvtColor(images[a], cv.COLOR_BGR2RGB)\n",
        "\n",
        "gc.collect"
      ],
      "metadata": {
        "id": "DnSk0zqjrpRb",
        "colab": {
          "base_uri": "https://localhost:8080/"
        },
        "outputId": "783c8493-10eb-457a-b934-e1eb30445e19"
      },
      "execution_count": null,
      "outputs": [
        {
          "output_type": "execute_result",
          "data": {
            "text/plain": [
              "<function gc.collect>"
            ]
          },
          "metadata": {},
          "execution_count": 13
        }
      ]
    },
    {
      "cell_type": "code",
      "source": [
        "set_Y = np.array([cv.resize(i,(320,240)) for i in images]) / 255.\n",
        "\n",
        "        \n",
        "gc.collect"
      ],
      "metadata": {
        "id": "IWJFQOQCrtuR",
        "colab": {
          "base_uri": "https://localhost:8080/"
        },
        "outputId": "3ef9eaef-4823-4b30-fa44-4d48e59d9e9b"
      },
      "execution_count": null,
      "outputs": [
        {
          "output_type": "execute_result",
          "data": {
            "text/plain": [
              "<function gc.collect>"
            ]
          },
          "metadata": {},
          "execution_count": 14
        }
      ]
    },
    {
      "cell_type": "code",
      "source": [
        "for a in range(len(images)):\n",
        "  images[a] = cv.resize(images[a], (80,60),interpolation=cv.INTER_LINEAR)\n",
        "gc.collect"
      ],
      "metadata": {
        "id": "mNB4oKofrxXG",
        "colab": {
          "base_uri": "https://localhost:8080/"
        },
        "outputId": "b9ca41d0-7c07-4b24-a980-ee9028511248"
      },
      "execution_count": null,
      "outputs": [
        {
          "output_type": "execute_result",
          "data": {
            "text/plain": [
              "<function gc.collect>"
            ]
          },
          "metadata": {},
          "execution_count": 15
        }
      ]
    },
    {
      "cell_type": "code",
      "source": [
        "set_X  = np.array([cv.resize(i,(320,240), interpolation=cv.INTER_NEAREST) for i in images]) / 255.\n",
        "gc.collect"
      ],
      "metadata": {
        "id": "VvxXTejnryxz",
        "colab": {
          "base_uri": "https://localhost:8080/"
        },
        "outputId": "57c5301b-5576-42e0-e99f-ed78080edef5"
      },
      "execution_count": null,
      "outputs": [
        {
          "output_type": "execute_result",
          "data": {
            "text/plain": [
              "<function gc.collect>"
            ]
          },
          "metadata": {},
          "execution_count": 16
        }
      ]
    },
    {
      "cell_type": "code",
      "source": [
        "X_train = set_X[0:800]\n",
        "X_test  = set_X[800:]\n",
        "\n",
        "\n",
        "y_train = set_Y[0:800]\n",
        "y_test  = set_Y[800:]\n",
        "gc.collect"
      ],
      "metadata": {
        "id": "uFGOi5SCr2W_",
        "colab": {
          "base_uri": "https://localhost:8080/"
        },
        "outputId": "58a93623-8e96-4070-b02c-6ffe54b63e21"
      },
      "execution_count": null,
      "outputs": [
        {
          "output_type": "execute_result",
          "data": {
            "text/plain": [
              "<function gc.collect>"
            ]
          },
          "metadata": {},
          "execution_count": 17
        }
      ]
    },
    {
      "cell_type": "code",
      "source": [
        "model = keras.models.load_model('/content/EDSR_Tom&Jerry_5.h5')\n",
        "\n",
        "model.compile(optimizer=tf.keras.optimizers.Adam(0.0001),\n",
        "              loss='mse',       \n",
        "              metrics=['mae'])\n",
        "\n",
        "history = model.fit(X_train, y_train,\n",
        "                    batch_size=4,\n",
        "                    epochs=1,\n",
        "                    validation_split=0.2)\n",
        "\n",
        "test_scores = model.evaluate(X_test, y_test, verbose=2) \n",
        "\n",
        "print('Test loss:', test_scores[0])\n",
        "print('Test mae:', test_scores[1])\n",
        "\n",
        "model.save('EDSR_Tom&Jerry_6.h5')"
      ],
      "metadata": {
        "id": "MPvBHjXhsBB3",
        "colab": {
          "base_uri": "https://localhost:8080/"
        },
        "outputId": "6c702fcd-0863-49c1-ce37-ed51cd5dd3fc"
      },
      "execution_count": null,
      "outputs": [
        {
          "output_type": "stream",
          "name": "stdout",
          "text": [
            "160/160 [==============================] - 661s 4s/step - loss: 0.0055 - mae: 0.0518 - val_loss: 0.0093 - val_mae: 0.0793\n",
            "7/7 - 39s - loss: 0.0099 - mae: 0.0803 - 39s/epoch - 6s/step\n",
            "Test loss: 0.009867523796856403\n",
            "Test mae: 0.08031011372804642\n"
          ]
        }
      ]
    },
    {
      "cell_type": "code",
      "source": [
        "images = []\n",
        "set_Y = []\n",
        "set_X = []\n",
        "X_train = []\n",
        "X_test  = []\n",
        "\n",
        "\n",
        "y_train = []\n",
        "y_test  = []\n",
        "gc.collect"
      ],
      "metadata": {
        "id": "qZsqxWBzsXnu",
        "colab": {
          "base_uri": "https://localhost:8080/"
        },
        "outputId": "98cb0b2b-4dea-4223-ccc5-ebc9c9a5f160"
      },
      "execution_count": null,
      "outputs": [
        {
          "output_type": "execute_result",
          "data": {
            "text/plain": [
              "<function gc.collect>"
            ]
          },
          "metadata": {},
          "execution_count": 3
        }
      ]
    },
    {
      "cell_type": "code",
      "source": [
        "i=0\n",
        "\n",
        "for file in os.listdir('/content/drive/MyDrive/Tom&Jerry/Tom_7000/'):\n",
        "    images.append(cv.imread('/content/drive/MyDrive/Tom&Jerry/Tom_7000/{}'.format(file)))"
      ],
      "metadata": {
        "id": "P7feHQctscJg"
      },
      "execution_count": null,
      "outputs": []
    },
    {
      "cell_type": "code",
      "source": [
        "for a in range(len(images)):\n",
        "  images[a] = cv.cvtColor(images[a], cv.COLOR_BGR2RGB)\n",
        "\n",
        "gc.collect"
      ],
      "metadata": {
        "id": "SHk1_Yg9slAR",
        "colab": {
          "base_uri": "https://localhost:8080/"
        },
        "outputId": "406328fc-f5ac-44f5-a5a5-c5e45d6d425b"
      },
      "execution_count": null,
      "outputs": [
        {
          "output_type": "execute_result",
          "data": {
            "text/plain": [
              "<function gc.collect>"
            ]
          },
          "metadata": {},
          "execution_count": 5
        }
      ]
    },
    {
      "cell_type": "code",
      "source": [
        "set_Y = np.array([cv.resize(i,(320,240)) for i in images]) / 255.\n",
        "\n",
        "        \n",
        "gc.collect"
      ],
      "metadata": {
        "id": "a4i5Z5C4soNg",
        "colab": {
          "base_uri": "https://localhost:8080/"
        },
        "outputId": "7a6e7163-0a85-4ca6-f34e-5832a7fc671a"
      },
      "execution_count": null,
      "outputs": [
        {
          "output_type": "execute_result",
          "data": {
            "text/plain": [
              "<function gc.collect>"
            ]
          },
          "metadata": {},
          "execution_count": 6
        }
      ]
    },
    {
      "cell_type": "code",
      "source": [
        "for a in range(len(images)):\n",
        "  images[a] = cv.resize(images[a], (80,60),interpolation=cv.INTER_LINEAR)\n",
        "gc.collect"
      ],
      "metadata": {
        "id": "W38ozUkHsqr7",
        "colab": {
          "base_uri": "https://localhost:8080/"
        },
        "outputId": "d01a31b1-c915-4d68-c98a-4e56851a27a7"
      },
      "execution_count": null,
      "outputs": [
        {
          "output_type": "execute_result",
          "data": {
            "text/plain": [
              "<function gc.collect>"
            ]
          },
          "metadata": {},
          "execution_count": 7
        }
      ]
    },
    {
      "cell_type": "code",
      "source": [
        "set_X  = np.array([cv.resize(i,(320,240), interpolation=cv.INTER_NEAREST) for i in images]) / 255.\n",
        "gc.collect"
      ],
      "metadata": {
        "id": "1XVMsNbast3s",
        "colab": {
          "base_uri": "https://localhost:8080/"
        },
        "outputId": "3fb32dab-e019-4476-914c-8b11f9c71327"
      },
      "execution_count": null,
      "outputs": [
        {
          "output_type": "execute_result",
          "data": {
            "text/plain": [
              "<function gc.collect>"
            ]
          },
          "metadata": {},
          "execution_count": 8
        }
      ]
    },
    {
      "cell_type": "code",
      "source": [
        "X_train = set_X[0:800]\n",
        "X_test  = set_X[800:]\n",
        "\n",
        "\n",
        "y_train = set_Y[0:800]\n",
        "y_test  = set_Y[800:]\n",
        "gc.collect"
      ],
      "metadata": {
        "id": "zWq2vTYXsxAY",
        "colab": {
          "base_uri": "https://localhost:8080/"
        },
        "outputId": "bcab5269-1c20-45d3-b259-f44a55771bd2"
      },
      "execution_count": null,
      "outputs": [
        {
          "output_type": "execute_result",
          "data": {
            "text/plain": [
              "<function gc.collect>"
            ]
          },
          "metadata": {},
          "execution_count": 9
        }
      ]
    },
    {
      "cell_type": "code",
      "source": [
        "model = keras.models.load_model('/content/EDSR_Tom&Jerry_6.h5')\n",
        "\n",
        "model.compile(optimizer=tf.keras.optimizers.Adam(0.0001),\n",
        "              loss='mse',       \n",
        "              metrics=['mae'])\n",
        "\n",
        "history = model.fit(X_train, y_train,\n",
        "                    batch_size=4,\n",
        "                    epochs=1,\n",
        "                    validation_split=0.2)\n",
        "\n",
        "\n",
        "model.save('EDSR_Tom&Jerry_7.h5')"
      ],
      "metadata": {
        "id": "T9RcSJKyszgF",
        "colab": {
          "base_uri": "https://localhost:8080/"
        },
        "outputId": "c6de5ab9-b529-43d4-e965-5bbfad726293"
      },
      "execution_count": null,
      "outputs": [
        {
          "output_type": "stream",
          "name": "stdout",
          "text": [
            "160/160 [==============================] - 708s 4s/step - loss: 0.0053 - mae: 0.0512 - val_loss: 0.0062 - val_mae: 0.0599\n"
          ]
        }
      ]
    },
    {
      "cell_type": "code",
      "source": [
        "images = []\n",
        "set_Y = []\n",
        "set_X = []\n",
        "X_train = []\n",
        "X_test  = []\n",
        "\n",
        "\n",
        "y_train = []\n",
        "y_test  = []\n",
        "gc.collect"
      ],
      "metadata": {
        "id": "88O6UX3DzeQs",
        "colab": {
          "base_uri": "https://localhost:8080/"
        },
        "outputId": "82b3cb05-e202-4b4b-8861-dbe9bf1365c6"
      },
      "execution_count": null,
      "outputs": [
        {
          "output_type": "execute_result",
          "data": {
            "text/plain": [
              "<function gc.collect>"
            ]
          },
          "metadata": {},
          "execution_count": 11
        }
      ]
    },
    {
      "cell_type": "code",
      "source": [
        "i=0\n",
        "\n",
        "for file in os.listdir('/content/drive/MyDrive/Tom&Jerry/Tom_8000/'):\n",
        "    images.append(cv.imread('/content/drive/MyDrive/Tom&Jerry/Tom_8000/{}'.format(file)))"
      ],
      "metadata": {
        "id": "wVoZdob-zvqW"
      },
      "execution_count": null,
      "outputs": []
    },
    {
      "cell_type": "code",
      "source": [
        "for a in range(len(images)):\n",
        "  images[a] = cv.cvtColor(images[a], cv.COLOR_BGR2RGB)\n",
        "\n",
        "gc.collect"
      ],
      "metadata": {
        "id": "ozp-9uHgzzPJ",
        "colab": {
          "base_uri": "https://localhost:8080/"
        },
        "outputId": "b78fed04-7a84-4c73-969d-c2a009f5b997"
      },
      "execution_count": null,
      "outputs": [
        {
          "output_type": "execute_result",
          "data": {
            "text/plain": [
              "<function gc.collect>"
            ]
          },
          "metadata": {},
          "execution_count": 13
        }
      ]
    },
    {
      "cell_type": "code",
      "source": [
        "set_Y = np.array([cv.resize(i,(320,240)) for i in images]) / 255.\n",
        "\n",
        "        \n",
        "gc.collect"
      ],
      "metadata": {
        "id": "Y5RV14Tbz7lj",
        "colab": {
          "base_uri": "https://localhost:8080/"
        },
        "outputId": "968eb689-2ae1-4451-91ea-5b4b5af6602a"
      },
      "execution_count": null,
      "outputs": [
        {
          "output_type": "execute_result",
          "data": {
            "text/plain": [
              "<function gc.collect>"
            ]
          },
          "metadata": {},
          "execution_count": 14
        }
      ]
    },
    {
      "cell_type": "code",
      "source": [
        "for a in range(len(images)):\n",
        "  images[a] = cv.resize(images[a], (80,60),interpolation=cv.INTER_LINEAR)\n",
        "gc.collect"
      ],
      "metadata": {
        "id": "USUbJtm-z-ws",
        "colab": {
          "base_uri": "https://localhost:8080/"
        },
        "outputId": "2a89fef0-bcb0-48f0-c87e-4abd018f5a17"
      },
      "execution_count": null,
      "outputs": [
        {
          "output_type": "execute_result",
          "data": {
            "text/plain": [
              "<function gc.collect>"
            ]
          },
          "metadata": {},
          "execution_count": 15
        }
      ]
    },
    {
      "cell_type": "code",
      "source": [
        "set_X  = np.array([cv.resize(i,(320,240), interpolation=cv.INTER_NEAREST) for i in images]) / 255.\n",
        "gc.collect"
      ],
      "metadata": {
        "id": "hpm_CGDs0OPa",
        "colab": {
          "base_uri": "https://localhost:8080/"
        },
        "outputId": "b1bf7ba2-88a9-4f67-90af-f84da3a08f1a"
      },
      "execution_count": null,
      "outputs": [
        {
          "output_type": "execute_result",
          "data": {
            "text/plain": [
              "<function gc.collect>"
            ]
          },
          "metadata": {},
          "execution_count": 16
        }
      ]
    },
    {
      "cell_type": "code",
      "source": [
        "X_train = set_X[0:800]\n",
        "X_test  = set_X[800:]\n",
        "\n",
        "\n",
        "y_train = set_Y[0:800]\n",
        "y_test  = set_Y[800:]\n",
        "gc.collect"
      ],
      "metadata": {
        "id": "DuSC6vjZ0RD8",
        "colab": {
          "base_uri": "https://localhost:8080/"
        },
        "outputId": "f305cdda-deed-4282-a24c-b24255e7397e"
      },
      "execution_count": null,
      "outputs": [
        {
          "output_type": "execute_result",
          "data": {
            "text/plain": [
              "<function gc.collect>"
            ]
          },
          "metadata": {},
          "execution_count": 17
        }
      ]
    },
    {
      "cell_type": "code",
      "source": [
        "model = keras.models.load_model('/content/EDSR_Tom&Jerry_7.h5')\n",
        "\n",
        "model.compile(optimizer=tf.keras.optimizers.Adam(0.0001),\n",
        "              loss='mse',       \n",
        "              metrics=['mae'])\n",
        "\n",
        "history = model.fit(X_train, y_train,\n",
        "                    batch_size=4,\n",
        "                    epochs=1,\n",
        "                    validation_split=0.2)\n",
        "\n",
        "\n",
        "model.save('EDSR_Tom&Jerry_8.h5')"
      ],
      "metadata": {
        "id": "NfzGfhaO0Sc0",
        "colab": {
          "base_uri": "https://localhost:8080/"
        },
        "outputId": "01ff4065-8613-4c43-80c9-20cba4b3a6fd"
      },
      "execution_count": null,
      "outputs": [
        {
          "output_type": "stream",
          "name": "stdout",
          "text": [
            "160/160 [==============================] - 695s 4s/step - loss: 0.0054 - mae: 0.0519 - val_loss: 0.0035 - val_mae: 0.0369\n"
          ]
        }
      ]
    },
    {
      "cell_type": "code",
      "source": [
        "images = []\n",
        "set_Y = []\n",
        "set_X = []\n",
        "X_train = []\n",
        "X_test  = []\n",
        "\n",
        "\n",
        "y_train = []\n",
        "y_test  = []\n",
        "gc.collect"
      ],
      "metadata": {
        "id": "X6WPdzKt0YhR",
        "colab": {
          "base_uri": "https://localhost:8080/"
        },
        "outputId": "2a6cf80d-70bf-4b75-ce53-a309cb9ccc05"
      },
      "execution_count": null,
      "outputs": [
        {
          "output_type": "execute_result",
          "data": {
            "text/plain": [
              "<function gc.collect>"
            ]
          },
          "metadata": {},
          "execution_count": 19
        }
      ]
    },
    {
      "cell_type": "code",
      "source": [
        "i=0\n",
        "\n",
        "for file in os.listdir('/content/drive/MyDrive/Tom&Jerry/Tom_9000/'):\n",
        "    images.append(cv.imread('/content/drive/MyDrive/Tom&Jerry/Tom_9000/{}'.format(file)))"
      ],
      "metadata": {
        "id": "vlIdSxZj0l07"
      },
      "execution_count": null,
      "outputs": []
    },
    {
      "cell_type": "code",
      "source": [
        "for a in range(len(images)):\n",
        "  images[a] = cv.cvtColor(images[a], cv.COLOR_BGR2RGB)\n",
        "\n",
        "gc.collect"
      ],
      "metadata": {
        "id": "wjPzgYIM0sFE",
        "colab": {
          "base_uri": "https://localhost:8080/"
        },
        "outputId": "2ffa10f8-e211-42c6-c640-e10b8cd22f2b"
      },
      "execution_count": null,
      "outputs": [
        {
          "output_type": "execute_result",
          "data": {
            "text/plain": [
              "<function gc.collect>"
            ]
          },
          "metadata": {},
          "execution_count": 21
        }
      ]
    },
    {
      "cell_type": "code",
      "source": [
        "set_Y = np.array([cv.resize(i,(320,240)) for i in images]) / 255.\n",
        "\n",
        "        \n",
        "gc.collect"
      ],
      "metadata": {
        "id": "p0DBYhE50vZ1",
        "colab": {
          "base_uri": "https://localhost:8080/"
        },
        "outputId": "0d3f1bc7-fae2-469e-f981-04909d8190cb"
      },
      "execution_count": null,
      "outputs": [
        {
          "output_type": "execute_result",
          "data": {
            "text/plain": [
              "<function gc.collect>"
            ]
          },
          "metadata": {},
          "execution_count": 22
        }
      ]
    },
    {
      "cell_type": "code",
      "source": [
        "for a in range(len(images)):\n",
        "  images[a] = cv.resize(images[a], (80,60),interpolation=cv.INTER_LINEAR)\n",
        "gc.collect"
      ],
      "metadata": {
        "id": "eE8hxSJ70ykT",
        "colab": {
          "base_uri": "https://localhost:8080/"
        },
        "outputId": "d5170239-acb8-45b8-b7ce-2be0c806b28e"
      },
      "execution_count": null,
      "outputs": [
        {
          "output_type": "execute_result",
          "data": {
            "text/plain": [
              "<function gc.collect>"
            ]
          },
          "metadata": {},
          "execution_count": 23
        }
      ]
    },
    {
      "cell_type": "code",
      "source": [
        "set_X  = np.array([cv.resize(i,(320,240), interpolation=cv.INTER_NEAREST) for i in images]) / 255.\n",
        "gc.collect"
      ],
      "metadata": {
        "id": "P7BhcrKv02ab",
        "colab": {
          "base_uri": "https://localhost:8080/"
        },
        "outputId": "50482031-700d-4777-f013-7a2ba045fe18"
      },
      "execution_count": null,
      "outputs": [
        {
          "output_type": "execute_result",
          "data": {
            "text/plain": [
              "<function gc.collect>"
            ]
          },
          "metadata": {},
          "execution_count": 24
        }
      ]
    },
    {
      "cell_type": "code",
      "source": [
        "X_train = set_X[0:800]\n",
        "X_test  = set_X[800:]\n",
        "\n",
        "\n",
        "y_train = set_Y[0:800]\n",
        "y_test  = set_Y[800:]\n",
        "gc.collect"
      ],
      "metadata": {
        "id": "3xzpXGE205lc",
        "colab": {
          "base_uri": "https://localhost:8080/"
        },
        "outputId": "be671236-a3be-45cc-b69c-80297d97024c"
      },
      "execution_count": null,
      "outputs": [
        {
          "output_type": "execute_result",
          "data": {
            "text/plain": [
              "<function gc.collect>"
            ]
          },
          "metadata": {},
          "execution_count": 25
        }
      ]
    },
    {
      "cell_type": "code",
      "source": [
        "model = keras.models.load_model('/content/EDSR_Tom&Jerry_8.h5')\n",
        "\n",
        "model.compile(optimizer=tf.keras.optimizers.Adam(0.00008),\n",
        "              loss='mse',       \n",
        "              metrics=['mae'])\n",
        "\n",
        "history = model.fit(X_train, y_train,\n",
        "                    batch_size=4,\n",
        "                    epochs=1,\n",
        "                    validation_split=0.2)\n",
        "\n",
        "\n",
        "model.save('EDSR_Tom&Jerry_9.h5')"
      ],
      "metadata": {
        "id": "MwCMIMrt09_K",
        "colab": {
          "base_uri": "https://localhost:8080/"
        },
        "outputId": "991bc967-7169-4d94-cb2f-65ce30867c51"
      },
      "execution_count": null,
      "outputs": [
        {
          "output_type": "stream",
          "name": "stdout",
          "text": [
            "160/160 [==============================] - 661s 4s/step - loss: 0.0049 - mae: 0.0491 - val_loss: 0.0040 - val_mae: 0.0390\n"
          ]
        }
      ]
    },
    {
      "cell_type": "code",
      "source": [
        "images = []\n",
        "set_Y = []\n",
        "set_X = []\n",
        "X_train = []\n",
        "X_test  = []\n",
        "\n",
        "\n",
        "y_train = []\n",
        "y_test  = []\n",
        "gc.collect"
      ],
      "metadata": {
        "id": "QL54LvAr1Jcs",
        "colab": {
          "base_uri": "https://localhost:8080/"
        },
        "outputId": "7b99b010-8db6-45da-8041-389f758b16bc"
      },
      "execution_count": 3,
      "outputs": [
        {
          "output_type": "execute_result",
          "data": {
            "text/plain": [
              "<function gc.collect>"
            ]
          },
          "metadata": {},
          "execution_count": 3
        }
      ]
    },
    {
      "cell_type": "code",
      "source": [
        "i=0\n",
        "\n",
        "for file in os.listdir('/content/drive/MyDrive/Tom&Jerry/Tom_10000/'):\n",
        "    images.append(cv.imread('/content/drive/MyDrive/Tom&Jerry/Tom_10000/{}'.format(file)))"
      ],
      "metadata": {
        "id": "qLMyOh4S1QjO"
      },
      "execution_count": 6,
      "outputs": []
    },
    {
      "cell_type": "code",
      "source": [
        "for a in range(len(images)):\n",
        "  images[a] = cv.cvtColor(images[a], cv.COLOR_BGR2RGB)\n",
        "\n",
        "gc.collect"
      ],
      "metadata": {
        "id": "PMM9F32N1Vju",
        "colab": {
          "base_uri": "https://localhost:8080/"
        },
        "outputId": "ca457a9f-e3fe-4bee-8cf2-b6ad40c1f038"
      },
      "execution_count": 7,
      "outputs": [
        {
          "output_type": "execute_result",
          "data": {
            "text/plain": [
              "<function gc.collect>"
            ]
          },
          "metadata": {},
          "execution_count": 7
        }
      ]
    },
    {
      "cell_type": "code",
      "source": [
        "set_Y = np.array([cv.resize(i,(320,240)) for i in images]) / 255.\n",
        "\n",
        "        \n",
        "gc.collect"
      ],
      "metadata": {
        "id": "0l7yynys1arN",
        "colab": {
          "base_uri": "https://localhost:8080/"
        },
        "outputId": "1478ea11-8769-4151-bdf2-b7065355d9df"
      },
      "execution_count": 8,
      "outputs": [
        {
          "output_type": "execute_result",
          "data": {
            "text/plain": [
              "<function gc.collect>"
            ]
          },
          "metadata": {},
          "execution_count": 8
        }
      ]
    },
    {
      "cell_type": "code",
      "source": [
        "for a in range(len(images)):\n",
        "  images[a] = cv.resize(images[a], (80,60),interpolation=cv.INTER_LINEAR)\n",
        "gc.collect"
      ],
      "metadata": {
        "id": "ET6-oAo71diN",
        "colab": {
          "base_uri": "https://localhost:8080/"
        },
        "outputId": "cb772972-7ee3-43bf-e050-b449b7e93d09"
      },
      "execution_count": 9,
      "outputs": [
        {
          "output_type": "execute_result",
          "data": {
            "text/plain": [
              "<function gc.collect>"
            ]
          },
          "metadata": {},
          "execution_count": 9
        }
      ]
    },
    {
      "cell_type": "code",
      "source": [
        "set_X  = np.array([cv.resize(i,(320,240), interpolation=cv.INTER_NEAREST) for i in images]) / 255.\n",
        "gc.collect"
      ],
      "metadata": {
        "id": "HwKBd4Kg1hM1",
        "colab": {
          "base_uri": "https://localhost:8080/"
        },
        "outputId": "c2b4e995-369c-4383-f2d2-e079d126ee94"
      },
      "execution_count": 10,
      "outputs": [
        {
          "output_type": "execute_result",
          "data": {
            "text/plain": [
              "<function gc.collect>"
            ]
          },
          "metadata": {},
          "execution_count": 10
        }
      ]
    },
    {
      "cell_type": "code",
      "source": [
        "X_train = set_X[0:800]\n",
        "X_test  = set_X[800:]\n",
        "\n",
        "\n",
        "y_train = set_Y[0:800]\n",
        "y_test  = set_Y[800:]\n",
        "gc.collect"
      ],
      "metadata": {
        "id": "7gxwNgjc1kCm",
        "colab": {
          "base_uri": "https://localhost:8080/"
        },
        "outputId": "d8833e0f-eb40-49cd-ebd2-82d380f7b5b4"
      },
      "execution_count": 11,
      "outputs": [
        {
          "output_type": "execute_result",
          "data": {
            "text/plain": [
              "<function gc.collect>"
            ]
          },
          "metadata": {},
          "execution_count": 11
        }
      ]
    },
    {
      "cell_type": "code",
      "source": [
        "model = keras.models.load_model('/content/EDSR_Tom&Jerry_9.h5')\n",
        "\n",
        "model.compile(optimizer=tf.keras.optimizers.Adam(0.00008),\n",
        "              loss='mse',       \n",
        "              metrics=['mae'])\n",
        "\n",
        "history = model.fit(X_train, y_train,\n",
        "                    batch_size=4,\n",
        "                    epochs=1,\n",
        "                    validation_split=0.2)\n",
        "\n",
        "\n",
        "model.save('EDSR_Tom&Jerry_10.h5')"
      ],
      "metadata": {
        "id": "R4erEdvS1nSW",
        "colab": {
          "base_uri": "https://localhost:8080/"
        },
        "outputId": "cb49ba25-3bef-4aa8-d955-61a55c36c992"
      },
      "execution_count": 12,
      "outputs": [
        {
          "output_type": "stream",
          "name": "stdout",
          "text": [
            "160/160 [==============================] - 706s 4s/step - loss: 0.0047 - mae: 0.0469 - val_loss: 0.0039 - val_mae: 0.0397\n"
          ]
        }
      ]
    },
    {
      "cell_type": "code",
      "source": [
        "images = []\n",
        "set_Y = []\n",
        "set_X = []\n",
        "X_train = []\n",
        "X_test  = []\n",
        "\n",
        "\n",
        "y_train = []\n",
        "y_test  = []\n",
        "gc.collect"
      ],
      "metadata": {
        "id": "399jS59f1taX",
        "colab": {
          "base_uri": "https://localhost:8080/"
        },
        "outputId": "c6129fe9-4187-4735-a0b5-fae8d9bca35f"
      },
      "execution_count": 13,
      "outputs": [
        {
          "output_type": "execute_result",
          "data": {
            "text/plain": [
              "<function gc.collect>"
            ]
          },
          "metadata": {},
          "execution_count": 13
        }
      ]
    },
    {
      "cell_type": "code",
      "source": [
        "i=0\n",
        "\n",
        "for file in os.listdir('/content/drive/MyDrive/Tom&Jerry/Tom_11000/'):\n",
        "    images.append(cv.imread('/content/drive/MyDrive/Tom&Jerry/Tom_11000/{}'.format(file)))"
      ],
      "metadata": {
        "id": "WRHyhBFY17-0"
      },
      "execution_count": 14,
      "outputs": []
    },
    {
      "cell_type": "code",
      "source": [
        "for a in range(len(images)):\n",
        "  images[a] = cv.cvtColor(images[a], cv.COLOR_BGR2RGB)\n",
        "\n",
        "gc.collect"
      ],
      "metadata": {
        "id": "kpbRApoy2Dq7",
        "colab": {
          "base_uri": "https://localhost:8080/"
        },
        "outputId": "0d03a5ff-d9ea-4be5-9f3d-8a457b9ca00c"
      },
      "execution_count": 15,
      "outputs": [
        {
          "output_type": "execute_result",
          "data": {
            "text/plain": [
              "<function gc.collect>"
            ]
          },
          "metadata": {},
          "execution_count": 15
        }
      ]
    },
    {
      "cell_type": "code",
      "source": [
        "set_Y = np.array([cv.resize(i,(320,240)) for i in images]) / 255.\n",
        "\n",
        "        \n",
        "gc.collect"
      ],
      "metadata": {
        "id": "Xx3IIXh22Hkq",
        "colab": {
          "base_uri": "https://localhost:8080/"
        },
        "outputId": "b45a562c-aae7-4850-ebf2-7ee44035c270"
      },
      "execution_count": 16,
      "outputs": [
        {
          "output_type": "execute_result",
          "data": {
            "text/plain": [
              "<function gc.collect>"
            ]
          },
          "metadata": {},
          "execution_count": 16
        }
      ]
    },
    {
      "cell_type": "code",
      "source": [
        "for a in range(len(images)):\n",
        "  images[a] = cv.resize(images[a], (80,60),interpolation=cv.INTER_LINEAR)\n",
        "gc.collect"
      ],
      "metadata": {
        "id": "gj5_aR832Lhk",
        "colab": {
          "base_uri": "https://localhost:8080/"
        },
        "outputId": "a1db7608-6fcb-477b-a64b-f68a82d4bf1e"
      },
      "execution_count": 17,
      "outputs": [
        {
          "output_type": "execute_result",
          "data": {
            "text/plain": [
              "<function gc.collect>"
            ]
          },
          "metadata": {},
          "execution_count": 17
        }
      ]
    },
    {
      "cell_type": "code",
      "source": [
        "set_X  = np.array([cv.resize(i,(320,240), interpolation=cv.INTER_NEAREST) for i in images]) / 255.\n",
        "gc.collect"
      ],
      "metadata": {
        "id": "QxAnlb_W2OZe",
        "colab": {
          "base_uri": "https://localhost:8080/"
        },
        "outputId": "c72b82f4-4f62-4c66-f200-a6744e26cb89"
      },
      "execution_count": 18,
      "outputs": [
        {
          "output_type": "execute_result",
          "data": {
            "text/plain": [
              "<function gc.collect>"
            ]
          },
          "metadata": {},
          "execution_count": 18
        }
      ]
    },
    {
      "cell_type": "code",
      "source": [
        "X_train = set_X[0:800]\n",
        "X_test  = set_X[800:]\n",
        "\n",
        "\n",
        "y_train = set_Y[0:800]\n",
        "y_test  = set_Y[800:]\n",
        "gc.collect"
      ],
      "metadata": {
        "id": "k7CmbkCj2RI4",
        "colab": {
          "base_uri": "https://localhost:8080/"
        },
        "outputId": "9e068c13-c5b7-43f9-99a7-a024b48752bb"
      },
      "execution_count": 19,
      "outputs": [
        {
          "output_type": "execute_result",
          "data": {
            "text/plain": [
              "<function gc.collect>"
            ]
          },
          "metadata": {},
          "execution_count": 19
        }
      ]
    },
    {
      "cell_type": "code",
      "source": [
        "model = keras.models.load_model('/content/EDSR_Tom&Jerry_10.h5')\n",
        "\n",
        "model.compile(optimizer=tf.keras.optimizers.Adam(0.00006),\n",
        "              loss='mse',       \n",
        "              metrics=['mae'])\n",
        "\n",
        "history = model.fit(X_train, y_train,\n",
        "                    batch_size=4,\n",
        "                    epochs=1,\n",
        "                    validation_split=0.2)\n",
        "\n",
        "\n",
        "model.save('EDSR_Tom&Jerry_11.h5')"
      ],
      "metadata": {
        "id": "mtZ5S5KE2WAy",
        "colab": {
          "base_uri": "https://localhost:8080/"
        },
        "outputId": "f25e21a7-f69e-4209-a6bb-78ea976462d1"
      },
      "execution_count": 20,
      "outputs": [
        {
          "output_type": "stream",
          "name": "stdout",
          "text": [
            "160/160 [==============================] - 724s 5s/step - loss: 0.0042 - mae: 0.0424 - val_loss: 0.0046 - val_mae: 0.0412\n"
          ]
        }
      ]
    },
    {
      "cell_type": "code",
      "source": [
        "images = []\n",
        "set_Y = []\n",
        "set_X = []\n",
        "X_train = []\n",
        "X_test  = []\n",
        "\n",
        "\n",
        "y_train = []\n",
        "y_test  = []\n",
        "gc.collect"
      ],
      "metadata": {
        "id": "W8K56z1E2aB6",
        "colab": {
          "base_uri": "https://localhost:8080/"
        },
        "outputId": "fb737397-6cc2-4e94-b26a-a54a8be0cf8f"
      },
      "execution_count": 21,
      "outputs": [
        {
          "output_type": "execute_result",
          "data": {
            "text/plain": [
              "<function gc.collect>"
            ]
          },
          "metadata": {},
          "execution_count": 21
        }
      ]
    },
    {
      "cell_type": "code",
      "source": [
        "i=0\n",
        "\n",
        "for file in os.listdir('/content/drive/MyDrive/Tom&Jerry/Tom_12000/'):\n",
        "    images.append(cv.imread('/content/drive/MyDrive/Tom&Jerry/Tom_12000/{}'.format(file)))"
      ],
      "metadata": {
        "id": "oJNPFIDU4kyx"
      },
      "execution_count": 22,
      "outputs": []
    },
    {
      "cell_type": "code",
      "source": [
        "for a in range(len(images)):\n",
        "  images[a] = cv.cvtColor(images[a], cv.COLOR_BGR2RGB)\n",
        "\n",
        "gc.collect"
      ],
      "metadata": {
        "id": "guLkH_LF4pfp",
        "colab": {
          "base_uri": "https://localhost:8080/"
        },
        "outputId": "5bd0d63a-cb23-4015-bf48-a701d83e499d"
      },
      "execution_count": 23,
      "outputs": [
        {
          "output_type": "execute_result",
          "data": {
            "text/plain": [
              "<function gc.collect>"
            ]
          },
          "metadata": {},
          "execution_count": 23
        }
      ]
    },
    {
      "cell_type": "code",
      "source": [
        "set_Y = np.array([cv.resize(i,(320,240)) for i in images]) / 255.\n",
        "\n",
        "        \n",
        "gc.collect"
      ],
      "metadata": {
        "id": "X4J2nTgT4tnW",
        "colab": {
          "base_uri": "https://localhost:8080/"
        },
        "outputId": "20bfabe3-9197-427e-d1a3-2d37e66b7edb"
      },
      "execution_count": 24,
      "outputs": [
        {
          "output_type": "execute_result",
          "data": {
            "text/plain": [
              "<function gc.collect>"
            ]
          },
          "metadata": {},
          "execution_count": 24
        }
      ]
    },
    {
      "cell_type": "code",
      "source": [
        "for a in range(len(images)):\n",
        "  images[a] = cv.resize(images[a], (80,60),interpolation=cv.INTER_LINEAR)\n",
        "gc.collect"
      ],
      "metadata": {
        "id": "Xv_-C9as4v7E",
        "colab": {
          "base_uri": "https://localhost:8080/"
        },
        "outputId": "22f22a4f-c756-42a6-d72c-96633f501559"
      },
      "execution_count": 25,
      "outputs": [
        {
          "output_type": "execute_result",
          "data": {
            "text/plain": [
              "<function gc.collect>"
            ]
          },
          "metadata": {},
          "execution_count": 25
        }
      ]
    },
    {
      "cell_type": "code",
      "source": [
        "set_X  = np.array([cv.resize(i,(320,240), interpolation=cv.INTER_NEAREST) for i in images]) / 255.\n",
        "gc.collect"
      ],
      "metadata": {
        "id": "D6dDdb7941jN",
        "colab": {
          "base_uri": "https://localhost:8080/"
        },
        "outputId": "4f6fe773-b508-42a5-c432-5bcc19245f39"
      },
      "execution_count": 26,
      "outputs": [
        {
          "output_type": "execute_result",
          "data": {
            "text/plain": [
              "<function gc.collect>"
            ]
          },
          "metadata": {},
          "execution_count": 26
        }
      ]
    },
    {
      "cell_type": "code",
      "source": [
        "X_train = set_X[0:800]\n",
        "X_test  = set_X[800:]\n",
        "\n",
        "\n",
        "y_train = set_Y[0:800]\n",
        "y_test  = set_Y[800:]\n",
        "gc.collect"
      ],
      "metadata": {
        "id": "uRXp_kKS5Bqg",
        "colab": {
          "base_uri": "https://localhost:8080/"
        },
        "outputId": "13789b06-9c94-45a6-d37f-7e6f5f54fb58"
      },
      "execution_count": 27,
      "outputs": [
        {
          "output_type": "execute_result",
          "data": {
            "text/plain": [
              "<function gc.collect>"
            ]
          },
          "metadata": {},
          "execution_count": 27
        }
      ]
    },
    {
      "cell_type": "code",
      "source": [
        "model = keras.models.load_model('/content/EDSR_Tom&Jerry_11.h5')\n",
        "\n",
        "model.compile(optimizer=tf.keras.optimizers.Adam(0.00006),\n",
        "              loss='mse',       \n",
        "              metrics=['mae'])\n",
        "\n",
        "history = model.fit(X_train, y_train,\n",
        "                    batch_size=4,\n",
        "                    epochs=1,\n",
        "                    validation_split=0.2)\n",
        "\n",
        "\n",
        "model.save('EDSR_Tom&Jerry_12.h5')"
      ],
      "metadata": {
        "id": "mCr6fmwT5E94",
        "colab": {
          "base_uri": "https://localhost:8080/"
        },
        "outputId": "2f76bbb6-e59d-4af0-8195-dfc8128fa18e"
      },
      "execution_count": 28,
      "outputs": [
        {
          "output_type": "stream",
          "name": "stdout",
          "text": [
            "160/160 [==============================] - 686s 4s/step - loss: 0.0039 - mae: 0.0415 - val_loss: 0.0034 - val_mae: 0.0329\n"
          ]
        }
      ]
    },
    {
      "cell_type": "code",
      "source": [
        "images = []\n",
        "set_Y = []\n",
        "set_X = []\n",
        "X_train = []\n",
        "X_test  = []\n",
        "\n",
        "\n",
        "y_train = []\n",
        "y_test  = []\n",
        "gc.collect"
      ],
      "metadata": {
        "id": "FvXwcuHY5c8d",
        "colab": {
          "base_uri": "https://localhost:8080/"
        },
        "outputId": "bb8b5866-5357-4d20-dd58-14f5c1432367"
      },
      "execution_count": 3,
      "outputs": [
        {
          "output_type": "execute_result",
          "data": {
            "text/plain": [
              "<function gc.collect>"
            ]
          },
          "metadata": {},
          "execution_count": 3
        }
      ]
    },
    {
      "cell_type": "code",
      "source": [
        "for file in os.listdir('/content/drive/MyDrive/Tom&Jerry/Tom_13000/'):\n",
        "    images.append(cv.imread('/content/drive/MyDrive/Tom&Jerry/Tom_13000/{}'.format(file)))"
      ],
      "metadata": {
        "id": "4e1mnLjo5l-0"
      },
      "execution_count": 4,
      "outputs": []
    },
    {
      "cell_type": "code",
      "source": [
        "for a in range(len(images)):\n",
        "  images[a] = cv.cvtColor(images[a], cv.COLOR_BGR2RGB)\n",
        "\n",
        "gc.collect"
      ],
      "metadata": {
        "id": "SFD9TdBj61Bq",
        "colab": {
          "base_uri": "https://localhost:8080/"
        },
        "outputId": "82139727-ad4c-4362-efec-913074bf8ffd"
      },
      "execution_count": 5,
      "outputs": [
        {
          "output_type": "execute_result",
          "data": {
            "text/plain": [
              "<function gc.collect>"
            ]
          },
          "metadata": {},
          "execution_count": 5
        }
      ]
    },
    {
      "cell_type": "code",
      "source": [
        "set_Y = np.array([cv.resize(i,(320,240)) for i in images]) / 255.\n",
        "\n",
        "        \n",
        "gc.collect"
      ],
      "metadata": {
        "id": "tQiJx-_D6-Hs",
        "colab": {
          "base_uri": "https://localhost:8080/"
        },
        "outputId": "3846c198-b296-4126-c42b-eaa9fcf03010"
      },
      "execution_count": 6,
      "outputs": [
        {
          "output_type": "execute_result",
          "data": {
            "text/plain": [
              "<function gc.collect>"
            ]
          },
          "metadata": {},
          "execution_count": 6
        }
      ]
    },
    {
      "cell_type": "code",
      "source": [
        "for a in range(len(images)):\n",
        "  images[a] = cv.resize(images[a], (80,60),interpolation=cv.INTER_LINEAR)\n",
        "gc.collect"
      ],
      "metadata": {
        "id": "-H3QzRym7Cue",
        "colab": {
          "base_uri": "https://localhost:8080/"
        },
        "outputId": "448d591c-8319-44f8-c3da-f862715a30b6"
      },
      "execution_count": 7,
      "outputs": [
        {
          "output_type": "execute_result",
          "data": {
            "text/plain": [
              "<function gc.collect>"
            ]
          },
          "metadata": {},
          "execution_count": 7
        }
      ]
    },
    {
      "cell_type": "code",
      "source": [
        "set_X  = np.array([cv.resize(i,(320,240), interpolation=cv.INTER_NEAREST) for i in images]) / 255.\n",
        "gc.collect"
      ],
      "metadata": {
        "id": "4J4pjb337FJV",
        "colab": {
          "base_uri": "https://localhost:8080/"
        },
        "outputId": "ed60788c-1211-4469-c2ff-c5d2dc17b4ac"
      },
      "execution_count": 8,
      "outputs": [
        {
          "output_type": "execute_result",
          "data": {
            "text/plain": [
              "<function gc.collect>"
            ]
          },
          "metadata": {},
          "execution_count": 8
        }
      ]
    },
    {
      "cell_type": "code",
      "source": [
        "X_train = set_X[0:800]\n",
        "X_test  = set_X[800:]\n",
        "\n",
        "\n",
        "y_train = set_Y[0:800]\n",
        "y_test  = set_Y[800:]\n",
        "gc.collect"
      ],
      "metadata": {
        "id": "7rANnPZE7JCg",
        "colab": {
          "base_uri": "https://localhost:8080/"
        },
        "outputId": "2936aa0d-39b3-40ec-afd9-86dcb7e6f557"
      },
      "execution_count": 9,
      "outputs": [
        {
          "output_type": "execute_result",
          "data": {
            "text/plain": [
              "<function gc.collect>"
            ]
          },
          "metadata": {},
          "execution_count": 9
        }
      ]
    },
    {
      "cell_type": "code",
      "source": [
        "model = keras.models.load_model('/content/EDSR_Tom&Jerry_12.h5')\n",
        "\n",
        "model.compile(optimizer=tf.keras.optimizers.Adam(0.00006),\n",
        "              loss='mse',       \n",
        "              metrics=['mae'])\n",
        "\n",
        "history = model.fit(X_train, y_train,\n",
        "                    batch_size=4,\n",
        "                    epochs=1,\n",
        "                    validation_split=0.2)\n",
        "\n",
        "\n",
        "model.save('EDSR_Tom&Jerry_13.h5')"
      ],
      "metadata": {
        "id": "U9sKUsrp78MQ",
        "colab": {
          "base_uri": "https://localhost:8080/"
        },
        "outputId": "313f9f27-5ce1-477d-be58-998c2f5c6cc2"
      },
      "execution_count": 10,
      "outputs": [
        {
          "output_type": "stream",
          "name": "stdout",
          "text": [
            "160/160 [==============================] - 735s 4s/step - loss: 0.0037 - mae: 0.0398 - val_loss: 0.0030 - val_mae: 0.0308\n"
          ]
        }
      ]
    },
    {
      "cell_type": "code",
      "source": [
        "images = []\n",
        "set_Y = []\n",
        "set_X = []\n",
        "X_train = []\n",
        "X_test  = []\n",
        "\n",
        "\n",
        "y_train = []\n",
        "y_test  = []\n",
        "gc.collect"
      ],
      "metadata": {
        "id": "BaVac5q-8vw4",
        "colab": {
          "base_uri": "https://localhost:8080/"
        },
        "outputId": "1b9f22e6-e14f-4941-a3b5-b5c30562f77c"
      },
      "execution_count": 11,
      "outputs": [
        {
          "output_type": "execute_result",
          "data": {
            "text/plain": [
              "<function gc.collect>"
            ]
          },
          "metadata": {},
          "execution_count": 11
        }
      ]
    },
    {
      "cell_type": "code",
      "source": [
        "for file in os.listdir('/content/drive/MyDrive/Tom&Jerry/Tom_14000/'):\n",
        "    images.append(cv.imread('/content/drive/MyDrive/Tom&Jerry/Tom_14000/{}'.format(file)))"
      ],
      "metadata": {
        "id": "Y6G2VxoH89no"
      },
      "execution_count": 12,
      "outputs": []
    },
    {
      "cell_type": "code",
      "source": [
        "for a in range(len(images)):\n",
        "  images[a] = cv.cvtColor(images[a], cv.COLOR_BGR2RGB)\n",
        "\n",
        "gc.collect"
      ],
      "metadata": {
        "id": "upU6P-3k9WdU",
        "colab": {
          "base_uri": "https://localhost:8080/"
        },
        "outputId": "99cf1f7c-1cfb-40d4-dbb5-46cf43b478a0"
      },
      "execution_count": 13,
      "outputs": [
        {
          "output_type": "execute_result",
          "data": {
            "text/plain": [
              "<function gc.collect>"
            ]
          },
          "metadata": {},
          "execution_count": 13
        }
      ]
    },
    {
      "cell_type": "code",
      "source": [
        "set_Y = np.array([cv.resize(i,(320,240)) for i in images]) / 255.\n",
        "\n",
        "        \n",
        "gc.collect"
      ],
      "metadata": {
        "id": "y9cePYrU9ZOD",
        "colab": {
          "base_uri": "https://localhost:8080/"
        },
        "outputId": "7d9488ab-91e6-4bfc-e184-85f5b77e5f03"
      },
      "execution_count": 14,
      "outputs": [
        {
          "output_type": "execute_result",
          "data": {
            "text/plain": [
              "<function gc.collect>"
            ]
          },
          "metadata": {},
          "execution_count": 14
        }
      ]
    },
    {
      "cell_type": "code",
      "source": [
        "for a in range(len(images)):\n",
        "  images[a] = cv.resize(images[a], (80,60),interpolation=cv.INTER_LINEAR)\n",
        "gc.collect"
      ],
      "metadata": {
        "id": "cq7esh449cew",
        "colab": {
          "base_uri": "https://localhost:8080/"
        },
        "outputId": "5e3faa32-b0cf-4756-a39a-84ab2228fb16"
      },
      "execution_count": 15,
      "outputs": [
        {
          "output_type": "execute_result",
          "data": {
            "text/plain": [
              "<function gc.collect>"
            ]
          },
          "metadata": {},
          "execution_count": 15
        }
      ]
    },
    {
      "cell_type": "code",
      "source": [
        "set_X  = np.array([cv.resize(i,(320,240), interpolation=cv.INTER_NEAREST) for i in images]) / 255.\n",
        "gc.collect"
      ],
      "metadata": {
        "id": "AWQbGJkw9fMF",
        "colab": {
          "base_uri": "https://localhost:8080/"
        },
        "outputId": "80600159-a23d-49ef-d345-6f887a2b467b"
      },
      "execution_count": 16,
      "outputs": [
        {
          "output_type": "execute_result",
          "data": {
            "text/plain": [
              "<function gc.collect>"
            ]
          },
          "metadata": {},
          "execution_count": 16
        }
      ]
    },
    {
      "cell_type": "code",
      "source": [
        "X_train = set_X[0:800]\n",
        "X_test  = set_X[800:]\n",
        "\n",
        "\n",
        "y_train = set_Y[0:800]\n",
        "y_test  = set_Y[800:]\n",
        "gc.collect"
      ],
      "metadata": {
        "id": "5KLtrMBX9i5f",
        "colab": {
          "base_uri": "https://localhost:8080/"
        },
        "outputId": "8029c77e-a42c-4813-995d-ec9157811855"
      },
      "execution_count": 17,
      "outputs": [
        {
          "output_type": "execute_result",
          "data": {
            "text/plain": [
              "<function gc.collect>"
            ]
          },
          "metadata": {},
          "execution_count": 17
        }
      ]
    },
    {
      "cell_type": "code",
      "source": [
        "model = keras.models.load_model('/content/EDSR_Tom&Jerry_13.h5')\n",
        "\n",
        "model.compile(optimizer=tf.keras.optimizers.Adam(0.00006),\n",
        "              loss='mse',       \n",
        "              metrics=['mae'])\n",
        "\n",
        "history = model.fit(X_train, y_train,\n",
        "                    batch_size=4,\n",
        "                    epochs=1,\n",
        "                    validation_split=0.2)\n",
        "\n",
        "\n",
        "model.save('EDSR_Tom&Jerry_14.h5')"
      ],
      "metadata": {
        "id": "XU9XOIWs9oh4",
        "colab": {
          "base_uri": "https://localhost:8080/"
        },
        "outputId": "b73ed36e-af13-4f2e-9f20-a265372bb8e9"
      },
      "execution_count": 18,
      "outputs": [
        {
          "output_type": "stream",
          "name": "stdout",
          "text": [
            "160/160 [==============================] - 720s 4s/step - loss: 0.0039 - mae: 0.0407 - val_loss: 0.0036 - val_mae: 0.0345\n"
          ]
        }
      ]
    },
    {
      "cell_type": "code",
      "source": [
        "images = []\n",
        "set_Y = []\n",
        "set_X = []\n",
        "X_train = []\n",
        "X_test  = []\n",
        "\n",
        "\n",
        "y_train = []\n",
        "y_test  = []\n",
        "gc.collect"
      ],
      "metadata": {
        "id": "TJOzGVki92rA",
        "colab": {
          "base_uri": "https://localhost:8080/"
        },
        "outputId": "3caf99d8-e8af-4887-8630-669a0d96b381"
      },
      "execution_count": 19,
      "outputs": [
        {
          "output_type": "execute_result",
          "data": {
            "text/plain": [
              "<function gc.collect>"
            ]
          },
          "metadata": {},
          "execution_count": 19
        }
      ]
    },
    {
      "cell_type": "code",
      "source": [
        "for file in os.listdir('/content/drive/MyDrive/Tom&Jerry/Tom_15000/'):\n",
        "    images.append(cv.imread('/content/drive/MyDrive/Tom&Jerry/Tom_15000/{}'.format(file)))"
      ],
      "metadata": {
        "id": "UWUhNsEN99C4"
      },
      "execution_count": 20,
      "outputs": []
    },
    {
      "cell_type": "code",
      "source": [
        "for a in range(len(images)):\n",
        "  images[a] = cv.cvtColor(images[a], cv.COLOR_BGR2RGB)\n",
        "\n",
        "gc.collect"
      ],
      "metadata": {
        "id": "TQPe7k4C-Chx",
        "colab": {
          "base_uri": "https://localhost:8080/"
        },
        "outputId": "9d4ce2f0-9012-47a8-ca70-643fad1ce403"
      },
      "execution_count": 21,
      "outputs": [
        {
          "output_type": "execute_result",
          "data": {
            "text/plain": [
              "<function gc.collect>"
            ]
          },
          "metadata": {},
          "execution_count": 21
        }
      ]
    },
    {
      "cell_type": "code",
      "source": [
        "set_Y = np.array([cv.resize(i,(320,240)) for i in images]) / 255.\n",
        "\n",
        "        \n",
        "gc.collect"
      ],
      "metadata": {
        "id": "XnxszVwj-GhR",
        "colab": {
          "base_uri": "https://localhost:8080/"
        },
        "outputId": "2db5a54b-c4f9-49af-a22a-9d610acff9e9"
      },
      "execution_count": 22,
      "outputs": [
        {
          "output_type": "execute_result",
          "data": {
            "text/plain": [
              "<function gc.collect>"
            ]
          },
          "metadata": {},
          "execution_count": 22
        }
      ]
    },
    {
      "cell_type": "code",
      "source": [
        "for a in range(len(images)):\n",
        "  images[a] = cv.resize(images[a], (80,60),interpolation=cv.INTER_LINEAR)\n",
        "gc.collect"
      ],
      "metadata": {
        "id": "m7ioy_7u-Jpk",
        "colab": {
          "base_uri": "https://localhost:8080/"
        },
        "outputId": "12f572ba-d141-42dd-e90f-bf5079bc93ed"
      },
      "execution_count": 23,
      "outputs": [
        {
          "output_type": "execute_result",
          "data": {
            "text/plain": [
              "<function gc.collect>"
            ]
          },
          "metadata": {},
          "execution_count": 23
        }
      ]
    },
    {
      "cell_type": "code",
      "source": [
        "set_X  = np.array([cv.resize(i,(320,240), interpolation=cv.INTER_NEAREST) for i in images]) / 255.\n",
        "gc.collect"
      ],
      "metadata": {
        "id": "cPJ2kt66-Ndi",
        "colab": {
          "base_uri": "https://localhost:8080/"
        },
        "outputId": "7b50f200-10b3-4c0b-ad27-3cdf98967709"
      },
      "execution_count": 24,
      "outputs": [
        {
          "output_type": "execute_result",
          "data": {
            "text/plain": [
              "<function gc.collect>"
            ]
          },
          "metadata": {},
          "execution_count": 24
        }
      ]
    },
    {
      "cell_type": "code",
      "source": [
        "X_train = set_X[0:800]\n",
        "X_test  = set_X[800:]\n",
        "\n",
        "\n",
        "y_train = set_Y[0:800]\n",
        "y_test  = set_Y[800:]\n",
        "gc.collect"
      ],
      "metadata": {
        "id": "WQZxeRV_-Qt7",
        "colab": {
          "base_uri": "https://localhost:8080/"
        },
        "outputId": "c7ece305-ce12-4713-e189-ab436ae9700b"
      },
      "execution_count": 25,
      "outputs": [
        {
          "output_type": "execute_result",
          "data": {
            "text/plain": [
              "<function gc.collect>"
            ]
          },
          "metadata": {},
          "execution_count": 25
        }
      ]
    },
    {
      "cell_type": "code",
      "source": [
        "model = keras.models.load_model('/content/EDSR_Tom&Jerry_14.h5')\n",
        "\n",
        "model.compile(optimizer=tf.keras.optimizers.Adam(0.00006),\n",
        "              loss='mse',       \n",
        "              metrics=['mae'])\n",
        "\n",
        "history = model.fit(X_train, y_train,\n",
        "                    batch_size=4,\n",
        "                    epochs=1,\n",
        "                    validation_split=0.2)\n",
        "\n",
        "\n",
        "model.save('EDSR_Tom&Jerry_15.h5')"
      ],
      "metadata": {
        "id": "theSwvor-UM1",
        "colab": {
          "base_uri": "https://localhost:8080/"
        },
        "outputId": "cce58f41-3409-43fb-a7b2-9cd7073c275f"
      },
      "execution_count": 26,
      "outputs": [
        {
          "output_type": "stream",
          "name": "stdout",
          "text": [
            "160/160 [==============================] - 687s 4s/step - loss: 0.0042 - mae: 0.0412 - val_loss: 0.0039 - val_mae: 0.0439\n"
          ]
        }
      ]
    },
    {
      "cell_type": "code",
      "source": [
        "images = []\n",
        "set_Y = []\n",
        "set_X = []\n",
        "X_train = []\n",
        "X_test  = []\n",
        "\n",
        "\n",
        "y_train = []\n",
        "y_test  = []\n",
        "gc.collect"
      ],
      "metadata": {
        "id": "RzpC8kOl-rsz",
        "colab": {
          "base_uri": "https://localhost:8080/"
        },
        "outputId": "ef316152-7bb7-4cc9-da26-ae56b0f5f1cf"
      },
      "execution_count": 27,
      "outputs": [
        {
          "output_type": "execute_result",
          "data": {
            "text/plain": [
              "<function gc.collect>"
            ]
          },
          "metadata": {},
          "execution_count": 27
        }
      ]
    },
    {
      "cell_type": "code",
      "source": [
        "for file in os.listdir('/content/drive/MyDrive/Tom&Jerry/Tom_16000/'):\n",
        "    images.append(cv.imread('/content/drive/MyDrive/Tom&Jerry/Tom_16000/{}'.format(file)))"
      ],
      "metadata": {
        "id": "s3y0VZFq-0MV"
      },
      "execution_count": 28,
      "outputs": []
    },
    {
      "cell_type": "code",
      "source": [
        "for a in range(len(images)):\n",
        "  images[a] = cv.cvtColor(images[a], cv.COLOR_BGR2RGB)\n",
        "\n",
        "gc.collect"
      ],
      "metadata": {
        "id": "mSQt15Xr-5LK",
        "colab": {
          "base_uri": "https://localhost:8080/"
        },
        "outputId": "c7afee41-a3e8-4f70-976c-28e5fe0e4adf"
      },
      "execution_count": 29,
      "outputs": [
        {
          "output_type": "execute_result",
          "data": {
            "text/plain": [
              "<function gc.collect>"
            ]
          },
          "metadata": {},
          "execution_count": 29
        }
      ]
    },
    {
      "cell_type": "code",
      "source": [
        "set_Y = np.array([cv.resize(i,(320,240)) for i in images]) / 255.\n",
        "\n",
        "        \n",
        "gc.collect"
      ],
      "metadata": {
        "id": "CsmDmrYf-94y",
        "colab": {
          "base_uri": "https://localhost:8080/"
        },
        "outputId": "51fe8562-9d59-4f23-aeb3-d5e3f4b29e2a"
      },
      "execution_count": 30,
      "outputs": [
        {
          "output_type": "execute_result",
          "data": {
            "text/plain": [
              "<function gc.collect>"
            ]
          },
          "metadata": {},
          "execution_count": 30
        }
      ]
    },
    {
      "cell_type": "code",
      "source": [
        "for a in range(len(images)):\n",
        "  images[a] = cv.resize(images[a], (80,60),interpolation=cv.INTER_LINEAR)\n",
        "gc.collect"
      ],
      "metadata": {
        "id": "-70oi03X_Avx",
        "colab": {
          "base_uri": "https://localhost:8080/"
        },
        "outputId": "5f3807b1-579b-4601-9b4e-7ced448598a4"
      },
      "execution_count": 31,
      "outputs": [
        {
          "output_type": "execute_result",
          "data": {
            "text/plain": [
              "<function gc.collect>"
            ]
          },
          "metadata": {},
          "execution_count": 31
        }
      ]
    },
    {
      "cell_type": "code",
      "source": [
        "set_X  = np.array([cv.resize(i,(320,240), interpolation=cv.INTER_NEAREST) for i in images]) / 255.\n",
        "gc.collect"
      ],
      "metadata": {
        "id": "NnXhfTjg_FLc",
        "colab": {
          "base_uri": "https://localhost:8080/"
        },
        "outputId": "8a7486a4-3c9c-426f-a73f-4825bbeaa750"
      },
      "execution_count": 32,
      "outputs": [
        {
          "output_type": "execute_result",
          "data": {
            "text/plain": [
              "<function gc.collect>"
            ]
          },
          "metadata": {},
          "execution_count": 32
        }
      ]
    },
    {
      "cell_type": "code",
      "source": [
        "X_train = set_X[0:800]\n",
        "X_test  = set_X[800:]\n",
        "\n",
        "\n",
        "y_train = set_Y[0:800]\n",
        "y_test  = set_Y[800:]\n",
        "gc.collect"
      ],
      "metadata": {
        "id": "OQlvvDBf_Ine",
        "colab": {
          "base_uri": "https://localhost:8080/"
        },
        "outputId": "a3646089-d71f-4fab-9474-77d5fe5403ac"
      },
      "execution_count": 33,
      "outputs": [
        {
          "output_type": "execute_result",
          "data": {
            "text/plain": [
              "<function gc.collect>"
            ]
          },
          "metadata": {},
          "execution_count": 33
        }
      ]
    },
    {
      "cell_type": "code",
      "source": [
        "model = keras.models.load_model('/content/EDSR_Tom&Jerry_15.h5')\n",
        "\n",
        "model.compile(optimizer=tf.keras.optimizers.Adam(0.00006),\n",
        "              loss='mse',       \n",
        "              metrics=['mae'])\n",
        "\n",
        "history = model.fit(X_train, y_train,\n",
        "                    batch_size=4,\n",
        "                    epochs=1,\n",
        "                    validation_split=0.2)\n",
        "\n",
        "\n",
        "model.save('EDSR_Tom&Jerry_16.h5')"
      ],
      "metadata": {
        "id": "pJVkVvBc_Mhi",
        "colab": {
          "base_uri": "https://localhost:8080/"
        },
        "outputId": "de357a9e-2092-420f-cf3b-64ed4fd37a75"
      },
      "execution_count": 34,
      "outputs": [
        {
          "output_type": "stream",
          "name": "stdout",
          "text": [
            "160/160 [==============================] - 721s 4s/step - loss: 0.0039 - mae: 0.0389 - val_loss: 0.0039 - val_mae: 0.0445\n"
          ]
        }
      ]
    },
    {
      "cell_type": "code",
      "source": [
        "images = []\n",
        "set_Y = []\n",
        "set_X = []\n",
        "X_train = []\n",
        "X_test  = []\n",
        "\n",
        "\n",
        "y_train = []\n",
        "y_test  = []\n",
        "gc.collect"
      ],
      "metadata": {
        "id": "E-hAxXQuAF26",
        "colab": {
          "base_uri": "https://localhost:8080/"
        },
        "outputId": "b84f7c90-8891-46e7-8927-52f01c8a2927"
      },
      "execution_count": 35,
      "outputs": [
        {
          "output_type": "execute_result",
          "data": {
            "text/plain": [
              "<function gc.collect>"
            ]
          },
          "metadata": {},
          "execution_count": 35
        }
      ]
    },
    {
      "cell_type": "code",
      "source": [
        "for file in os.listdir('/content/drive/MyDrive/Tom&Jerry/Tom_17000/'):\n",
        "    images.append(cv.imread('/content/drive/MyDrive/Tom&Jerry/Tom_17000/{}'.format(file)))"
      ],
      "metadata": {
        "id": "7FuFnqPE_QSg"
      },
      "execution_count": 36,
      "outputs": []
    },
    {
      "cell_type": "code",
      "source": [
        "for a in range(len(images)):\n",
        "  images[a] = cv.cvtColor(images[a], cv.COLOR_BGR2RGB)\n",
        "\n",
        "gc.collect"
      ],
      "metadata": {
        "id": "3cC9xbf-_nJq",
        "colab": {
          "base_uri": "https://localhost:8080/"
        },
        "outputId": "6e7a2d49-efa0-4af5-8c90-a1922943cba9"
      },
      "execution_count": 37,
      "outputs": [
        {
          "output_type": "execute_result",
          "data": {
            "text/plain": [
              "<function gc.collect>"
            ]
          },
          "metadata": {},
          "execution_count": 37
        }
      ]
    },
    {
      "cell_type": "code",
      "source": [
        "set_Y = np.array([cv.resize(i,(320,240)) for i in images]) / 255.\n",
        "\n",
        "        \n",
        "gc.collect"
      ],
      "metadata": {
        "id": "g54pddEl_p1E",
        "colab": {
          "base_uri": "https://localhost:8080/"
        },
        "outputId": "c10554dd-6a4a-4921-a4bd-0d47500efc24"
      },
      "execution_count": 38,
      "outputs": [
        {
          "output_type": "execute_result",
          "data": {
            "text/plain": [
              "<function gc.collect>"
            ]
          },
          "metadata": {},
          "execution_count": 38
        }
      ]
    },
    {
      "cell_type": "code",
      "source": [
        "for a in range(len(images)):\n",
        "  images[a] = cv.resize(images[a], (80,60),interpolation=cv.INTER_LINEAR)\n",
        "gc.collect"
      ],
      "metadata": {
        "id": "8ee9AA2-_s12",
        "colab": {
          "base_uri": "https://localhost:8080/"
        },
        "outputId": "d9c66f5d-e839-4e57-8507-b654d79941e5"
      },
      "execution_count": 39,
      "outputs": [
        {
          "output_type": "execute_result",
          "data": {
            "text/plain": [
              "<function gc.collect>"
            ]
          },
          "metadata": {},
          "execution_count": 39
        }
      ]
    },
    {
      "cell_type": "code",
      "source": [
        "set_X  = np.array([cv.resize(i,(320,240), interpolation=cv.INTER_NEAREST) for i in images]) / 255.\n",
        "gc.collect"
      ],
      "metadata": {
        "id": "cSeqOIAQ_viW",
        "colab": {
          "base_uri": "https://localhost:8080/"
        },
        "outputId": "fa462294-b7b8-469e-dbe6-63e00825319c"
      },
      "execution_count": 40,
      "outputs": [
        {
          "output_type": "execute_result",
          "data": {
            "text/plain": [
              "<function gc.collect>"
            ]
          },
          "metadata": {},
          "execution_count": 40
        }
      ]
    },
    {
      "cell_type": "code",
      "source": [
        "X_train = set_X[0:800]\n",
        "X_test  = set_X[800:]\n",
        "\n",
        "\n",
        "y_train = set_Y[0:800]\n",
        "y_test  = set_Y[800:]\n",
        "gc.collect"
      ],
      "metadata": {
        "id": "sdRJCOaS_yC8",
        "colab": {
          "base_uri": "https://localhost:8080/"
        },
        "outputId": "56392fee-b635-4364-c9a0-0f4be7384c18"
      },
      "execution_count": 41,
      "outputs": [
        {
          "output_type": "execute_result",
          "data": {
            "text/plain": [
              "<function gc.collect>"
            ]
          },
          "metadata": {},
          "execution_count": 41
        }
      ]
    },
    {
      "cell_type": "code",
      "source": [
        "model = keras.models.load_model('/content/EDSR_Tom&Jerry_16.h5')\n",
        "\n",
        "model.compile(optimizer=tf.keras.optimizers.Adam(0.00006),\n",
        "              loss='mse',       \n",
        "              metrics=['mae'])\n",
        "\n",
        "history = model.fit(X_train, y_train,\n",
        "                    batch_size=4,\n",
        "                    epochs=1,\n",
        "                    validation_split=0.2)\n",
        "\n",
        "\n",
        "model.save('EDSR_Tom&Jerry_17.h5')"
      ],
      "metadata": {
        "id": "pLa7U9Lx_2Ru",
        "colab": {
          "base_uri": "https://localhost:8080/"
        },
        "outputId": "942cc607-bf29-4af4-e9a2-ee284864bf81"
      },
      "execution_count": 42,
      "outputs": [
        {
          "output_type": "stream",
          "name": "stdout",
          "text": [
            "160/160 [==============================] - 687s 4s/step - loss: 0.0037 - mae: 0.0374 - val_loss: 0.0035 - val_mae: 0.0339\n"
          ]
        }
      ]
    },
    {
      "cell_type": "code",
      "source": [
        "images = []\n",
        "set_Y = []\n",
        "set_X = []\n",
        "X_train = []\n",
        "X_test  = []\n",
        "\n",
        "\n",
        "y_train = []\n",
        "y_test  = []\n",
        "gc.collect"
      ],
      "metadata": {
        "id": "3VJTtNoSAP7g",
        "colab": {
          "base_uri": "https://localhost:8080/"
        },
        "outputId": "6e7d2167-6d49-4d8f-9069-ba6e38e89620"
      },
      "execution_count": 3,
      "outputs": [
        {
          "output_type": "execute_result",
          "data": {
            "text/plain": [
              "<function gc.collect>"
            ]
          },
          "metadata": {},
          "execution_count": 3
        }
      ]
    },
    {
      "cell_type": "code",
      "source": [
        "for file in os.listdir('/content/drive/MyDrive/Tom&Jerry/Tom_18000/'):\n",
        "    images.append(cv.imread('/content/drive/MyDrive/Tom&Jerry/Tom_18000/{}'.format(file)))"
      ],
      "metadata": {
        "id": "oHuXWsQXAY8n"
      },
      "execution_count": 4,
      "outputs": []
    },
    {
      "cell_type": "code",
      "source": [
        "for a in range(len(images)):\n",
        "  images[a] = cv.cvtColor(images[a], cv.COLOR_BGR2RGB)\n",
        "\n",
        "gc.collect"
      ],
      "metadata": {
        "id": "MUxSMAQ1AcgM",
        "colab": {
          "base_uri": "https://localhost:8080/"
        },
        "outputId": "f7fa2398-57ce-410f-c1c9-2b43e9d08b46"
      },
      "execution_count": 5,
      "outputs": [
        {
          "output_type": "execute_result",
          "data": {
            "text/plain": [
              "<function gc.collect>"
            ]
          },
          "metadata": {},
          "execution_count": 5
        }
      ]
    },
    {
      "cell_type": "code",
      "source": [
        "set_Y = np.array([cv.resize(i,(320,240)) for i in images]) / 255.\n",
        "\n",
        "        \n",
        "gc.collect"
      ],
      "metadata": {
        "id": "tOdAJMu4Afmx",
        "colab": {
          "base_uri": "https://localhost:8080/"
        },
        "outputId": "387bf4da-6ca2-4206-a44b-7f70eadda7f9"
      },
      "execution_count": 6,
      "outputs": [
        {
          "output_type": "execute_result",
          "data": {
            "text/plain": [
              "<function gc.collect>"
            ]
          },
          "metadata": {},
          "execution_count": 6
        }
      ]
    },
    {
      "cell_type": "code",
      "source": [
        "for a in range(len(images)):\n",
        "  images[a] = cv.resize(images[a], (80,60),interpolation=cv.INTER_LINEAR)\n",
        "gc.collect"
      ],
      "metadata": {
        "id": "g_et8XsiAh7_",
        "colab": {
          "base_uri": "https://localhost:8080/"
        },
        "outputId": "9cbbe1d5-315f-40ae-90b3-2b76da779b27"
      },
      "execution_count": 7,
      "outputs": [
        {
          "output_type": "execute_result",
          "data": {
            "text/plain": [
              "<function gc.collect>"
            ]
          },
          "metadata": {},
          "execution_count": 7
        }
      ]
    },
    {
      "cell_type": "code",
      "source": [
        "set_X  = np.array([cv.resize(i,(320,240), interpolation=cv.INTER_NEAREST) for i in images]) / 255.\n",
        "gc.collect"
      ],
      "metadata": {
        "id": "9jgvtzbsAlVh",
        "colab": {
          "base_uri": "https://localhost:8080/"
        },
        "outputId": "3f4ec22e-7f0d-4f0d-f35b-9c77a7e7c045"
      },
      "execution_count": 8,
      "outputs": [
        {
          "output_type": "execute_result",
          "data": {
            "text/plain": [
              "<function gc.collect>"
            ]
          },
          "metadata": {},
          "execution_count": 8
        }
      ]
    },
    {
      "cell_type": "code",
      "source": [
        "X_train = set_X[0:800]\n",
        "X_test  = set_X[800:]\n",
        "\n",
        "\n",
        "y_train = set_Y[0:800]\n",
        "y_test  = set_Y[800:]\n",
        "gc.collect"
      ],
      "metadata": {
        "id": "Tr1zg6MHApRF",
        "colab": {
          "base_uri": "https://localhost:8080/"
        },
        "outputId": "2c6f23f1-3229-400e-a317-ac107fe40015"
      },
      "execution_count": 9,
      "outputs": [
        {
          "output_type": "execute_result",
          "data": {
            "text/plain": [
              "<function gc.collect>"
            ]
          },
          "metadata": {},
          "execution_count": 9
        }
      ]
    },
    {
      "cell_type": "code",
      "source": [
        "model = keras.models.load_model('/content/EDSR_Tom&Jerry_17.h5')\n",
        "\n",
        "model.compile(optimizer=tf.keras.optimizers.Adam(0.00004),\n",
        "              loss='mse',       \n",
        "              metrics=['mae'])\n",
        "\n",
        "history = model.fit(X_train, y_train,\n",
        "                    batch_size=4,\n",
        "                    epochs=1,\n",
        "                    validation_split=0.2)\n",
        "\n",
        "\n",
        "model.save('EDSR_Tom&Jerry_18.h5')"
      ],
      "metadata": {
        "id": "Zwrs5rQPAr9I",
        "colab": {
          "base_uri": "https://localhost:8080/"
        },
        "outputId": "61d6c216-b78b-49bd-b8b6-46498c8b7a02"
      },
      "execution_count": 10,
      "outputs": [
        {
          "output_type": "stream",
          "name": "stdout",
          "text": [
            "160/160 [==============================] - 736s 4s/step - loss: 0.0034 - mae: 0.0358 - val_loss: 0.0044 - val_mae: 0.0419\n"
          ]
        }
      ]
    },
    {
      "cell_type": "code",
      "source": [
        "images = []\n",
        "set_Y = []\n",
        "set_X = []\n",
        "X_train = []\n",
        "X_test  = []\n",
        "\n",
        "\n",
        "y_train = []\n",
        "y_test  = []\n",
        "gc.collect"
      ],
      "metadata": {
        "id": "v3BP8xrHAwfC",
        "colab": {
          "base_uri": "https://localhost:8080/"
        },
        "outputId": "21176a97-40ab-4a1f-eda2-92eebd293f0d"
      },
      "execution_count": 11,
      "outputs": [
        {
          "output_type": "execute_result",
          "data": {
            "text/plain": [
              "<function gc.collect>"
            ]
          },
          "metadata": {},
          "execution_count": 11
        }
      ]
    },
    {
      "cell_type": "code",
      "source": [
        "for file in os.listdir('/content/drive/MyDrive/Tom&Jerry/Tom_19000/'):\n",
        "    images.append(cv.imread('/content/drive/MyDrive/Tom&Jerry/Tom_19000/{}'.format(file)))"
      ],
      "metadata": {
        "id": "-d4WtuyRA4iX"
      },
      "execution_count": 12,
      "outputs": []
    },
    {
      "cell_type": "code",
      "source": [
        "for a in range(len(images)):\n",
        "  images[a] = cv.cvtColor(images[a], cv.COLOR_BGR2RGB)\n",
        "\n",
        "gc.collect"
      ],
      "metadata": {
        "id": "eLmIBBJvA9I5",
        "colab": {
          "base_uri": "https://localhost:8080/"
        },
        "outputId": "59019c02-569a-44b7-ee9d-7dad7a54a3f1"
      },
      "execution_count": 13,
      "outputs": [
        {
          "output_type": "execute_result",
          "data": {
            "text/plain": [
              "<function gc.collect>"
            ]
          },
          "metadata": {},
          "execution_count": 13
        }
      ]
    },
    {
      "cell_type": "code",
      "source": [
        "set_Y = np.array([cv.resize(i,(320,240)) for i in images]) / 255.\n",
        "\n",
        "        \n",
        "gc.collect"
      ],
      "metadata": {
        "id": "kvO8ZhEdBANi",
        "colab": {
          "base_uri": "https://localhost:8080/"
        },
        "outputId": "34c38f0c-aec3-48d4-f683-f749ebe8899a"
      },
      "execution_count": 14,
      "outputs": [
        {
          "output_type": "execute_result",
          "data": {
            "text/plain": [
              "<function gc.collect>"
            ]
          },
          "metadata": {},
          "execution_count": 14
        }
      ]
    },
    {
      "cell_type": "code",
      "source": [
        "for a in range(len(images)):\n",
        "  images[a] = cv.resize(images[a], (80,60),interpolation=cv.INTER_LINEAR)\n",
        "gc.collect"
      ],
      "metadata": {
        "id": "UOM3u8tRBDYY",
        "colab": {
          "base_uri": "https://localhost:8080/"
        },
        "outputId": "83dfad36-d885-41bc-c1eb-211e98b1e162"
      },
      "execution_count": 15,
      "outputs": [
        {
          "output_type": "execute_result",
          "data": {
            "text/plain": [
              "<function gc.collect>"
            ]
          },
          "metadata": {},
          "execution_count": 15
        }
      ]
    },
    {
      "cell_type": "code",
      "source": [
        "set_X  = np.array([cv.resize(i,(320,240), interpolation=cv.INTER_NEAREST) for i in images]) / 255.\n",
        "gc.collect"
      ],
      "metadata": {
        "id": "5cB2HYL2BHn0",
        "colab": {
          "base_uri": "https://localhost:8080/"
        },
        "outputId": "6d15b95c-48ff-4d1b-9dac-675d31e81fb7"
      },
      "execution_count": 16,
      "outputs": [
        {
          "output_type": "execute_result",
          "data": {
            "text/plain": [
              "<function gc.collect>"
            ]
          },
          "metadata": {},
          "execution_count": 16
        }
      ]
    },
    {
      "cell_type": "code",
      "source": [
        "X_train = set_X[0:800]\n",
        "X_test  = set_X[800:]\n",
        "\n",
        "\n",
        "y_train = set_Y[0:800]\n",
        "y_test  = set_Y[800:]\n",
        "gc.collect"
      ],
      "metadata": {
        "id": "4765jx9BBLES",
        "colab": {
          "base_uri": "https://localhost:8080/"
        },
        "outputId": "07ceb62f-597d-4833-a8aa-31f2da8f0e19"
      },
      "execution_count": 17,
      "outputs": [
        {
          "output_type": "execute_result",
          "data": {
            "text/plain": [
              "<function gc.collect>"
            ]
          },
          "metadata": {},
          "execution_count": 17
        }
      ]
    },
    {
      "cell_type": "code",
      "source": [
        "model = keras.models.load_model('/content/EDSR_Tom&Jerry_18.h5')\n",
        "\n",
        "model.compile(optimizer=tf.keras.optimizers.Adam(0.00002),\n",
        "              loss='mse',       \n",
        "              metrics=['mae'])\n",
        "\n",
        "history = model.fit(X_train, y_train,\n",
        "                    batch_size=4,\n",
        "                    epochs=1,\n",
        "                    validation_split=0.2)\n",
        "\n",
        "\n",
        "model.save('EDSR_Tom&Jerry_19.h5')"
      ],
      "metadata": {
        "id": "9fokknryBPqM",
        "colab": {
          "base_uri": "https://localhost:8080/"
        },
        "outputId": "8f48135b-2367-4916-ce6f-988489535c7e"
      },
      "execution_count": 18,
      "outputs": [
        {
          "output_type": "stream",
          "name": "stdout",
          "text": [
            "160/160 [==============================] - 721s 4s/step - loss: 0.0038 - mae: 0.0366 - val_loss: 0.0033 - val_mae: 0.0358\n"
          ]
        }
      ]
    },
    {
      "cell_type": "code",
      "source": [
        "images = []\n",
        "set_Y = []\n",
        "set_X = []\n",
        "X_train = []\n",
        "X_test  = []\n",
        "\n",
        "\n",
        "y_train = []\n",
        "y_test  = []\n",
        "gc.collect"
      ],
      "metadata": {
        "id": "tfBjch3WBWP4",
        "colab": {
          "base_uri": "https://localhost:8080/"
        },
        "outputId": "54e83f31-48fe-4b4f-f012-b9b4fb2947bf"
      },
      "execution_count": 19,
      "outputs": [
        {
          "output_type": "execute_result",
          "data": {
            "text/plain": [
              "<function gc.collect>"
            ]
          },
          "metadata": {},
          "execution_count": 19
        }
      ]
    },
    {
      "cell_type": "code",
      "source": [
        "for file in os.listdir('/content/drive/MyDrive/Tom&Jerry/Tom_20000/'):\n",
        "    images.append(cv.imread('/content/drive/MyDrive/Tom&Jerry/Tom_20000/{}'.format(file)))"
      ],
      "metadata": {
        "id": "1OONCBekBZy4"
      },
      "execution_count": 20,
      "outputs": []
    },
    {
      "cell_type": "code",
      "source": [
        "for a in range(len(images)):\n",
        "  images[a] = cv.cvtColor(images[a], cv.COLOR_BGR2RGB)\n",
        "\n",
        "gc.collect"
      ],
      "metadata": {
        "id": "3SsQdo7qBebj",
        "colab": {
          "base_uri": "https://localhost:8080/"
        },
        "outputId": "a7c3dad8-c88e-4eb2-9807-da84673deba9"
      },
      "execution_count": 21,
      "outputs": [
        {
          "output_type": "execute_result",
          "data": {
            "text/plain": [
              "<function gc.collect>"
            ]
          },
          "metadata": {},
          "execution_count": 21
        }
      ]
    },
    {
      "cell_type": "code",
      "source": [
        "set_Y = np.array([cv.resize(i,(320,240)) for i in images]) / 255.\n",
        "\n",
        "        \n",
        "gc.collect"
      ],
      "metadata": {
        "id": "q0uesPanBhaX",
        "colab": {
          "base_uri": "https://localhost:8080/"
        },
        "outputId": "dcda3e3f-0e35-41e7-fd2e-63832ab61660"
      },
      "execution_count": 22,
      "outputs": [
        {
          "output_type": "execute_result",
          "data": {
            "text/plain": [
              "<function gc.collect>"
            ]
          },
          "metadata": {},
          "execution_count": 22
        }
      ]
    },
    {
      "cell_type": "code",
      "source": [
        "for a in range(len(images)):\n",
        "  images[a] = cv.resize(images[a], (80,60),interpolation=cv.INTER_LINEAR)\n",
        "gc.collect"
      ],
      "metadata": {
        "id": "lsyQ_5krBnOJ",
        "colab": {
          "base_uri": "https://localhost:8080/"
        },
        "outputId": "9b6aef55-8bbb-41c6-c0cb-9faa693f3439"
      },
      "execution_count": 23,
      "outputs": [
        {
          "output_type": "execute_result",
          "data": {
            "text/plain": [
              "<function gc.collect>"
            ]
          },
          "metadata": {},
          "execution_count": 23
        }
      ]
    },
    {
      "cell_type": "code",
      "source": [
        "set_X  = np.array([cv.resize(i,(320,240), interpolation=cv.INTER_NEAREST) for i in images]) / 255.\n",
        "gc.collect"
      ],
      "metadata": {
        "id": "9zNVoPR2Bp-H",
        "colab": {
          "base_uri": "https://localhost:8080/"
        },
        "outputId": "2c2cdeb9-aee7-429c-f3b4-64fdd51b5dc0"
      },
      "execution_count": 24,
      "outputs": [
        {
          "output_type": "execute_result",
          "data": {
            "text/plain": [
              "<function gc.collect>"
            ]
          },
          "metadata": {},
          "execution_count": 24
        }
      ]
    },
    {
      "cell_type": "code",
      "source": [
        "X_train = set_X[0:800]\n",
        "X_test  = set_X[800:]\n",
        "\n",
        "\n",
        "y_train = set_Y[0:800]\n",
        "y_test  = set_Y[800:]\n",
        "gc.collect"
      ],
      "metadata": {
        "id": "HzkN6M-DBslz",
        "colab": {
          "base_uri": "https://localhost:8080/"
        },
        "outputId": "e8d00cea-a56c-43a9-bff7-c2768073e4db"
      },
      "execution_count": 25,
      "outputs": [
        {
          "output_type": "execute_result",
          "data": {
            "text/plain": [
              "<function gc.collect>"
            ]
          },
          "metadata": {},
          "execution_count": 25
        }
      ]
    },
    {
      "cell_type": "code",
      "source": [
        "model = keras.models.load_model('/content/EDSR_Tom&Jerry_19.h5')\n",
        "\n",
        "model.compile(optimizer=tf.keras.optimizers.Adam(0.000002),\n",
        "              loss='mse',       \n",
        "              metrics=['mae'])\n",
        "\n",
        "history = model.fit(X_train, y_train,\n",
        "                    batch_size=4,\n",
        "                    epochs=1,\n",
        "                    validation_split=0.2)\n",
        "\n",
        "\n",
        "model.save('EDSR_Tom&Jerry_20.h5')"
      ],
      "metadata": {
        "id": "VTi2ARW2BvXg",
        "colab": {
          "base_uri": "https://localhost:8080/"
        },
        "outputId": "b8af6e0e-0ca9-441e-e18f-9620760239fb"
      },
      "execution_count": 26,
      "outputs": [
        {
          "output_type": "stream",
          "name": "stdout",
          "text": [
            "160/160 [==============================] - 720s 4s/step - loss: 0.0035 - mae: 0.0342 - val_loss: 0.0025 - val_mae: 0.0254\n"
          ]
        }
      ]
    }
  ]
}