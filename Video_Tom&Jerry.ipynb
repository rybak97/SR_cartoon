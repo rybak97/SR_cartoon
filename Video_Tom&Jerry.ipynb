{
  "nbformat": 4,
  "nbformat_minor": 0,
  "metadata": {
    "colab": {
      "name": "Video_Tom&Jerry",
      "provenance": [],
      "collapsed_sections": [],
      "mount_file_id": "1tA7QAZu9JuSb5mAhcRLCHX_TYVOlf4eY",
      "authorship_tag": "ABX9TyPJxs6pFyPCVqlF9lOx6TLE",
      "include_colab_link": true
    },
    "kernelspec": {
      "name": "python3",
      "display_name": "Python 3"
    },
    "language_info": {
      "name": "python"
    },
    "accelerator": "GPU"
  },
  "cells": [
    {
      "cell_type": "markdown",
      "metadata": {
        "id": "view-in-github",
        "colab_type": "text"
      },
      "source": [
        "<a href=\"https://colab.research.google.com/github/rybak97/SR_cartoon/blob/main/Video_Tom%26Jerry.ipynb\" target=\"_parent\"><img src=\"https://colab.research.google.com/assets/colab-badge.svg\" alt=\"Open In Colab\"/></a>"
      ]
    },
    {
      "cell_type": "code",
      "source": [
        "import cv2\n",
        "vidcap = cv2.VideoCapture('/content/Tom and Jerry - Dont you believe it (videoo.info).mp4')\n",
        "success,image = vidcap.read()\n",
        "count = 0\n",
        "while success:\n",
        "  cv2.imwrite('/content/LR_vid'+\"/frame%d.jpg\" % count, image)     # save frame as JPEG file      \n",
        "  success,image = vidcap.read()\n",
        "\n",
        "  count += 1\n",
        "\n",
        "print(\"frames:\"+str(count))"
      ],
      "metadata": {
        "colab": {
          "base_uri": "https://localhost:8080/"
        },
        "id": "ALlr0LgtaR7h",
        "outputId": "e16b36ee-a0e4-4b75-ba24-b4809166ab9d"
      },
      "execution_count": 1,
      "outputs": [
        {
          "output_type": "stream",
          "name": "stdout",
          "text": [
            "frames:128\n"
          ]
        }
      ]
    },
    {
      "cell_type": "code",
      "source": [
        "import numpy as np"
      ],
      "metadata": {
        "id": "K3Ap48OxvmvO"
      },
      "execution_count": 2,
      "outputs": []
    },
    {
      "cell_type": "code",
      "source": [
        "import tensorflow as tf\n",
        "\n",
        "from tensorflow import keras\n",
        "from tensorflow.keras import layers\n",
        "\n",
        "from matplotlib import pyplot as plt"
      ],
      "metadata": {
        "id": "v6V6C5eowMwC"
      },
      "execution_count": 3,
      "outputs": []
    },
    {
      "cell_type": "code",
      "source": [
        "model2 = keras.models.load_model('/content/Encoder_Tom&Jerry_20.h5')"
      ],
      "metadata": {
        "id": "88C_3-KXwUCY"
      },
      "execution_count": 4,
      "outputs": []
    },
    {
      "cell_type": "code",
      "source": [
        "import os\n",
        "import sys\n",
        "np.set_printoptions(threshold=sys.maxsize)"
      ],
      "metadata": {
        "id": "61kNPmHBxXTW"
      },
      "execution_count": 5,
      "outputs": []
    },
    {
      "cell_type": "code",
      "source": [
        "count = 0\n",
        "\n",
        "for i in os.listdir('/content/LR_vid'):\n",
        "  img_LR = cv2.imread('/content/LR_vid'+\"/frame%d.jpg\" % count)\n",
        "  \n",
        "  img_LR = cv2.resize(img_LR,(480,360)) \n",
        "  \n",
        "  #img_LR = cv2.cvtColor(img_LR, cv2.COLOR_BGR2RGB)\n",
        "  img_LR = img_LR / 255.\n",
        "  \n",
        "  img_LR = np.reshape(img_LR,(1,360,480,3))\n",
        "  \n",
        "  img_SR = model2.predict(img_LR)\n",
        "  img_SR = img_SR * 255.\n",
        "  img_SR = np.reshape(img_SR,(360,480,3))\n",
        "\n",
        "\n",
        "  cv2.imwrite('/content/SR_vid'+\"/img_LR%d.jpg\" % count, img_SR)\n",
        "  count += 1"
      ],
      "metadata": {
        "id": "QZ-ypuM7t2X-"
      },
      "execution_count": 11,
      "outputs": []
    },
    {
      "cell_type": "code",
      "source": [
        "file_list = os.listdir(\"/content/SR_vid\")"
      ],
      "metadata": {
        "id": "PjvuxfwNT7f5"
      },
      "execution_count": 12,
      "outputs": []
    },
    {
      "cell_type": "code",
      "source": [
        "count = 0\n",
        "\n",
        "image_folder = '/content/SR_vid'\n",
        "video_name = 'video.avi'\n",
        "\n",
        "images = [img for img in os.listdir(image_folder) if img.endswith(\".jpg\")]\n",
        "\n",
        "\n"
      ],
      "metadata": {
        "id": "hgeMlrNjCmxB"
      },
      "execution_count": 13,
      "outputs": []
    },
    {
      "cell_type": "code",
      "source": [
        "from tkinter import Tcl\n",
        "images = Tcl().call('lsort', '-dict', images)"
      ],
      "metadata": {
        "id": "foqQPBTXWIa9"
      },
      "execution_count": 14,
      "outputs": []
    },
    {
      "cell_type": "code",
      "source": [
        "images"
      ],
      "metadata": {
        "colab": {
          "base_uri": "https://localhost:8080/"
        },
        "id": "Eg2151FUXEOE",
        "outputId": "350a5be7-5bf8-46c8-d946-d4f40d4f5cb2"
      },
      "execution_count": 15,
      "outputs": [
        {
          "output_type": "execute_result",
          "data": {
            "text/plain": [
              "('img_LR0.jpg',\n",
              " 'img_LR1.jpg',\n",
              " 'img_LR2.jpg',\n",
              " 'img_LR3.jpg',\n",
              " 'img_LR4.jpg',\n",
              " 'img_LR5.jpg',\n",
              " 'img_LR6.jpg',\n",
              " 'img_LR7.jpg',\n",
              " 'img_LR8.jpg',\n",
              " 'img_LR9.jpg',\n",
              " 'img_LR10.jpg',\n",
              " 'img_LR11.jpg',\n",
              " 'img_LR12.jpg',\n",
              " 'img_LR13.jpg',\n",
              " 'img_LR14.jpg',\n",
              " 'img_LR15.jpg',\n",
              " 'img_LR16.jpg',\n",
              " 'img_LR17.jpg',\n",
              " 'img_LR18.jpg',\n",
              " 'img_LR19.jpg',\n",
              " 'img_LR20.jpg',\n",
              " 'img_LR21.jpg',\n",
              " 'img_LR22.jpg',\n",
              " 'img_LR23.jpg',\n",
              " 'img_LR24.jpg',\n",
              " 'img_LR25.jpg',\n",
              " 'img_LR26.jpg',\n",
              " 'img_LR27.jpg',\n",
              " 'img_LR28.jpg',\n",
              " 'img_LR29.jpg',\n",
              " 'img_LR30.jpg',\n",
              " 'img_LR31.jpg',\n",
              " 'img_LR32.jpg',\n",
              " 'img_LR33.jpg',\n",
              " 'img_LR34.jpg',\n",
              " 'img_LR35.jpg',\n",
              " 'img_LR36.jpg',\n",
              " 'img_LR37.jpg',\n",
              " 'img_LR38.jpg',\n",
              " 'img_LR39.jpg',\n",
              " 'img_LR40.jpg',\n",
              " 'img_LR41.jpg',\n",
              " 'img_LR42.jpg',\n",
              " 'img_LR43.jpg',\n",
              " 'img_LR44.jpg',\n",
              " 'img_LR45.jpg',\n",
              " 'img_LR46.jpg',\n",
              " 'img_LR47.jpg',\n",
              " 'img_LR48.jpg',\n",
              " 'img_LR49.jpg',\n",
              " 'img_LR50.jpg',\n",
              " 'img_LR51.jpg',\n",
              " 'img_LR52.jpg',\n",
              " 'img_LR53.jpg',\n",
              " 'img_LR54.jpg',\n",
              " 'img_LR55.jpg',\n",
              " 'img_LR56.jpg',\n",
              " 'img_LR57.jpg',\n",
              " 'img_LR58.jpg',\n",
              " 'img_LR59.jpg',\n",
              " 'img_LR60.jpg',\n",
              " 'img_LR61.jpg',\n",
              " 'img_LR62.jpg',\n",
              " 'img_LR63.jpg',\n",
              " 'img_LR64.jpg',\n",
              " 'img_LR65.jpg',\n",
              " 'img_LR66.jpg',\n",
              " 'img_LR67.jpg',\n",
              " 'img_LR68.jpg',\n",
              " 'img_LR69.jpg',\n",
              " 'img_LR70.jpg',\n",
              " 'img_LR71.jpg',\n",
              " 'img_LR72.jpg',\n",
              " 'img_LR73.jpg',\n",
              " 'img_LR74.jpg',\n",
              " 'img_LR75.jpg',\n",
              " 'img_LR76.jpg',\n",
              " 'img_LR77.jpg',\n",
              " 'img_LR78.jpg',\n",
              " 'img_LR79.jpg',\n",
              " 'img_LR80.jpg',\n",
              " 'img_LR81.jpg',\n",
              " 'img_LR82.jpg',\n",
              " 'img_LR83.jpg',\n",
              " 'img_LR84.jpg',\n",
              " 'img_LR85.jpg',\n",
              " 'img_LR86.jpg',\n",
              " 'img_LR87.jpg',\n",
              " 'img_LR88.jpg',\n",
              " 'img_LR89.jpg',\n",
              " 'img_LR90.jpg',\n",
              " 'img_LR91.jpg',\n",
              " 'img_LR92.jpg',\n",
              " 'img_LR93.jpg',\n",
              " 'img_LR94.jpg',\n",
              " 'img_LR95.jpg',\n",
              " 'img_LR96.jpg',\n",
              " 'img_LR97.jpg',\n",
              " 'img_LR98.jpg',\n",
              " 'img_LR99.jpg',\n",
              " 'img_LR100.jpg',\n",
              " 'img_LR101.jpg',\n",
              " 'img_LR102.jpg',\n",
              " 'img_LR103.jpg',\n",
              " 'img_LR104.jpg',\n",
              " 'img_LR105.jpg',\n",
              " 'img_LR106.jpg',\n",
              " 'img_LR107.jpg',\n",
              " 'img_LR108.jpg',\n",
              " 'img_LR109.jpg',\n",
              " 'img_LR110.jpg',\n",
              " 'img_LR111.jpg',\n",
              " 'img_LR112.jpg',\n",
              " 'img_LR113.jpg',\n",
              " 'img_LR114.jpg',\n",
              " 'img_LR115.jpg',\n",
              " 'img_LR116.jpg',\n",
              " 'img_LR117.jpg',\n",
              " 'img_LR118.jpg',\n",
              " 'img_LR119.jpg',\n",
              " 'img_LR120.jpg',\n",
              " 'img_LR121.jpg',\n",
              " 'img_LR122.jpg',\n",
              " 'img_LR123.jpg',\n",
              " 'img_LR124.jpg',\n",
              " 'img_LR125.jpg',\n",
              " 'img_LR126.jpg',\n",
              " 'img_LR127.jpg')"
            ]
          },
          "metadata": {},
          "execution_count": 15
        }
      ]
    },
    {
      "cell_type": "code",
      "source": [
        "frame = cv2.imread(os.path.join(image_folder, images[0]))\n",
        "height, width, layers = frame.shape\n",
        "\n",
        "video = cv2.VideoWriter(video_name, 0, 29.97, (width,height))\n",
        "\n",
        "for image in images:\n",
        "    video.write(cv2.imread(os.path.join(image_folder, image)))\n",
        "    count += 1\n",
        "\n",
        "cv2.destroyAllWindows()\n",
        "video.release()"
      ],
      "metadata": {
        "id": "xkceHgONWGTy"
      },
      "execution_count": 16,
      "outputs": []
    }
  ]
}